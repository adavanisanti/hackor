{
 "cells": [
  {
   "cell_type": "code",
   "execution_count": 1,
   "metadata": {
    "collapsed": false
   },
   "outputs": [
    {
     "data": {
      "text/plain": [
       "(3280, 997955)"
      ]
     },
     "execution_count": 1,
     "metadata": {},
     "output_type": "execute_result"
    }
   ],
   "source": [
    "import re\n",
    "import pandas as pd\n",
    "pd.options.display.max_columns = 9\n",
    "pd.options.display.max_rows = 3\n",
    "np = pd.np\n",
    "np.norm = np.linalg.norm\n",
    "from datetime import datetime, date\n",
    "import json\n",
    "from matplotlib import pyplot as plt\n",
    "%matplotlib inline\n",
    "plt.style.use('ggplot')\n",
    "from sklearn.feature_extraction.text import TfidfVectorizer  # equivalent to TFIDFTransformer(CountVectorizer())\n",
    "from django.db.models import Sum\n",
    "from pacs.models import CampaignDetail, WorkingTransactions\n",
    "import django\n",
    "django.setup()\n",
    "CampaignDetail.objects.count(), WorkingTransactions.objects.count()"
   ]
  },
  {
   "cell_type": "markdown",
   "metadata": {},
   "source": [
    "# Django\n",
    "This is how you join CampaignDetail & WorkingTransactions  \n",
    "and aggregate the WorkingTransactions.amount"
   ]
  },
  {
   "cell_type": "code",
   "execution_count": 2,
   "metadata": {
    "collapsed": false
   },
   "outputs": [
    {
     "name": "stdout",
     "output_type": "stream",
     "text": [
      "Net transactions: 1,039.0M\n"
     ]
    }
   ],
   "source": [
    "qs = CampaignDetail.objects.annotate(net_amount=Sum('workingtransactions__amount')).values().all()\n",
    "print('Net transactions: {:,}M'.format(round(sum(qs.values_list('net_amount', flat=True)) / 1e6)))"
   ]
  },
  {
   "cell_type": "markdown",
   "metadata": {},
   "source": [
    "Convert a Django Queryset into a Pandas DataFrame"
   ]
  },
  {
   "cell_type": "code",
   "execution_count": 3,
   "metadata": {
    "collapsed": false
   },
   "outputs": [
    {
     "data": {
      "text/plain": [
       "Index([u'candidate_name', u'committee_name', u'committee_subtype',\n",
       "       u'committee_type', u'db_update_status', u'election', u'filer_id',\n",
       "       u'grassroots', u'instate', u'net_amount', u'num_transactions', u'party',\n",
       "       u'phone', u'race', u'total', u'total_spent', u'website'],\n",
       "      dtype='object')"
      ]
     },
     "execution_count": 3,
     "metadata": {},
     "output_type": "execute_result"
    }
   ],
   "source": [
    "df = pd.DataFrame.from_records(qs)\n",
    "df.columns"
   ]
  },
  {
   "cell_type": "code",
   "execution_count": 4,
   "metadata": {
    "collapsed": false
   },
   "outputs": [
    {
     "data": {
      "text/html": [
       "<div>\n",
       "<table border=\"1\" class=\"dataframe\">\n",
       "  <thead>\n",
       "    <tr style=\"text-align: right;\">\n",
       "      <th></th>\n",
       "      <th>candidate_name</th>\n",
       "      <th>committee_name</th>\n",
       "      <th>committee_subtype</th>\n",
       "      <th>committee_type</th>\n",
       "      <th>...</th>\n",
       "      <th>race</th>\n",
       "      <th>total</th>\n",
       "      <th>total_spent</th>\n",
       "      <th>website</th>\n",
       "    </tr>\n",
       "  </thead>\n",
       "  <tbody>\n",
       "    <tr>\n",
       "      <th>0</th>\n",
       "      <td>Katherine Schacht</td>\n",
       "      <td>Supporters of Katherine Schacht</td>\n",
       "      <td>None</td>\n",
       "      <td>CC</td>\n",
       "      <td>...</td>\n",
       "      <td>2016 Election Director Emerald People's Utilit...</td>\n",
       "      <td>1083.15</td>\n",
       "      <td>1664.61</td>\n",
       "      <td>None</td>\n",
       "    </tr>\n",
       "    <tr>\n",
       "      <th>...</th>\n",
       "      <td>...</td>\n",
       "      <td>...</td>\n",
       "      <td>...</td>\n",
       "      <td>...</td>\n",
       "      <td>...</td>\n",
       "      <td>...</td>\n",
       "      <td>...</td>\n",
       "      <td>...</td>\n",
       "      <td>...</td>\n",
       "    </tr>\n",
       "    <tr>\n",
       "      <th>3278</th>\n",
       "      <td>Cottage Grove Blackberry Pie Society</td>\n",
       "      <td>Cottage Grove Blackberry Pie Society</td>\n",
       "      <td>Miscellaneous</td>\n",
       "      <td>PAC</td>\n",
       "      <td>...</td>\n",
       "      <td></td>\n",
       "      <td>180.00</td>\n",
       "      <td>171.80</td>\n",
       "      <td>None</td>\n",
       "    </tr>\n",
       "  </tbody>\n",
       "</table>\n",
       "<p>2384 rows × 17 columns</p>\n",
       "</div>"
      ],
      "text/plain": [
       "                            candidate_name  \\\n",
       "0                        Katherine Schacht   \n",
       "...                                    ...   \n",
       "3278  Cottage Grove Blackberry Pie Society   \n",
       "\n",
       "                            committee_name committee_subtype committee_type  \\\n",
       "0          Supporters of Katherine Schacht              None             CC   \n",
       "...                                    ...               ...            ...   \n",
       "3278  Cottage Grove Blackberry Pie Society     Miscellaneous            PAC   \n",
       "\n",
       "       ...                                                  race    total  \\\n",
       "0      ...     2016 Election Director Emerald People's Utilit...  1083.15   \n",
       "...    ...                                                   ...      ...   \n",
       "3278   ...                                                         180.00   \n",
       "\n",
       "      total_spent  website  \n",
       "0         1664.61     None  \n",
       "...           ...      ...  \n",
       "3278       171.80     None  \n",
       "\n",
       "[2384 rows x 17 columns]"
      ]
     },
     "execution_count": 4,
     "metadata": {},
     "output_type": "execute_result"
    }
   ],
   "source": [
    "df = df[df.committee_name.astype(bool)].copy()\n",
    "df"
   ]
  },
  {
   "cell_type": "markdown",
   "metadata": {},
   "source": [
    "# Pandas DataFrame.join\n",
    "What if you only want positive transactions?"
   ]
  },
  {
   "cell_type": "code",
   "execution_count": 5,
   "metadata": {
    "collapsed": false
   },
   "outputs": [
    {
     "data": {
      "text/html": [
       "<div>\n",
       "<table border=\"1\" class=\"dataframe\">\n",
       "  <thead>\n",
       "    <tr style=\"text-align: right;\">\n",
       "      <th></th>\n",
       "      <th>candidate_name</th>\n",
       "      <th>committee_name</th>\n",
       "      <th>committee_subtype</th>\n",
       "      <th>committee_type</th>\n",
       "      <th>...</th>\n",
       "      <th>total</th>\n",
       "      <th>total_spent</th>\n",
       "      <th>website</th>\n",
       "      <th>pos_amount</th>\n",
       "    </tr>\n",
       "  </thead>\n",
       "  <tbody>\n",
       "    <tr>\n",
       "      <th>0</th>\n",
       "      <td>Katherine Schacht</td>\n",
       "      <td>Supporters of Katherine Schacht</td>\n",
       "      <td>None</td>\n",
       "      <td>CC</td>\n",
       "      <td>...</td>\n",
       "      <td>1083.15</td>\n",
       "      <td>1664.61</td>\n",
       "      <td>None</td>\n",
       "      <td>8104.57</td>\n",
       "    </tr>\n",
       "    <tr>\n",
       "      <th>...</th>\n",
       "      <td>...</td>\n",
       "      <td>...</td>\n",
       "      <td>...</td>\n",
       "      <td>...</td>\n",
       "      <td>...</td>\n",
       "      <td>...</td>\n",
       "      <td>...</td>\n",
       "      <td>...</td>\n",
       "      <td>...</td>\n",
       "    </tr>\n",
       "    <tr>\n",
       "      <th>3278</th>\n",
       "      <td>Cottage Grove Blackberry Pie Society</td>\n",
       "      <td>Cottage Grove Blackberry Pie Society</td>\n",
       "      <td>Miscellaneous</td>\n",
       "      <td>PAC</td>\n",
       "      <td>...</td>\n",
       "      <td>180.00</td>\n",
       "      <td>171.80</td>\n",
       "      <td>None</td>\n",
       "      <td>NaN</td>\n",
       "    </tr>\n",
       "  </tbody>\n",
       "</table>\n",
       "<p>2384 rows × 18 columns</p>\n",
       "</div>"
      ],
      "text/plain": [
       "                            candidate_name  \\\n",
       "0                        Katherine Schacht   \n",
       "...                                    ...   \n",
       "3278  Cottage Grove Blackberry Pie Society   \n",
       "\n",
       "                            committee_name committee_subtype committee_type  \\\n",
       "0          Supporters of Katherine Schacht              None             CC   \n",
       "...                                    ...               ...            ...   \n",
       "3278  Cottage Grove Blackberry Pie Society     Miscellaneous            PAC   \n",
       "\n",
       "         ...        total total_spent  website  pos_amount  \n",
       "0        ...      1083.15     1664.61     None     8104.57  \n",
       "...      ...          ...         ...      ...         ...  \n",
       "3278     ...       180.00      171.80     None         NaN  \n",
       "\n",
       "[2384 rows x 18 columns]"
      ]
     },
     "execution_count": 5,
     "metadata": {},
     "output_type": "execute_result"
    }
   ],
   "source": [
    "qs_pos = CampaignDetail.objects.filter(committee_name__isnull=False, workingtransactions__amount__gt=0)\n",
    "qs_pos = qs_pos.annotate(pos_amount=Sum('workingtransactions__amount'))\n",
    "df_pos = df.join(pd.DataFrame.from_records(qs_pos.values('pos_amount').all())['pos_amount'])\n",
    "df_pos"
   ]
  },
  {
   "cell_type": "markdown",
   "metadata": {},
   "source": [
    "### What if I just insert a new column with the values?"
   ]
  },
  {
   "cell_type": "code",
   "execution_count": 6,
   "metadata": {
    "collapsed": false
   },
   "outputs": [
    {
     "data": {
      "text/html": [
       "<div>\n",
       "<table border=\"1\" class=\"dataframe\">\n",
       "  <thead>\n",
       "    <tr style=\"text-align: right;\">\n",
       "      <th></th>\n",
       "      <th>candidate_name</th>\n",
       "      <th>committee_name</th>\n",
       "      <th>committee_subtype</th>\n",
       "      <th>committee_type</th>\n",
       "      <th>...</th>\n",
       "      <th>total</th>\n",
       "      <th>total_spent</th>\n",
       "      <th>website</th>\n",
       "      <th>pos_amount</th>\n",
       "    </tr>\n",
       "  </thead>\n",
       "  <tbody>\n",
       "    <tr>\n",
       "      <th>0</th>\n",
       "      <td>Katherine Schacht</td>\n",
       "      <td>Supporters of Katherine Schacht</td>\n",
       "      <td>None</td>\n",
       "      <td>CC</td>\n",
       "      <td>...</td>\n",
       "      <td>1083.15</td>\n",
       "      <td>1664.61</td>\n",
       "      <td>None</td>\n",
       "      <td>8104.57</td>\n",
       "    </tr>\n",
       "    <tr>\n",
       "      <th>...</th>\n",
       "      <td>...</td>\n",
       "      <td>...</td>\n",
       "      <td>...</td>\n",
       "      <td>...</td>\n",
       "      <td>...</td>\n",
       "      <td>...</td>\n",
       "      <td>...</td>\n",
       "      <td>...</td>\n",
       "      <td>...</td>\n",
       "    </tr>\n",
       "    <tr>\n",
       "      <th>3278</th>\n",
       "      <td>Cottage Grove Blackberry Pie Society</td>\n",
       "      <td>Cottage Grove Blackberry Pie Society</td>\n",
       "      <td>Miscellaneous</td>\n",
       "      <td>PAC</td>\n",
       "      <td>...</td>\n",
       "      <td>180.00</td>\n",
       "      <td>171.80</td>\n",
       "      <td>None</td>\n",
       "      <td>NaN</td>\n",
       "    </tr>\n",
       "  </tbody>\n",
       "</table>\n",
       "<p>2384 rows × 18 columns</p>\n",
       "</div>"
      ],
      "text/plain": [
       "                            candidate_name  \\\n",
       "0                        Katherine Schacht   \n",
       "...                                    ...   \n",
       "3278  Cottage Grove Blackberry Pie Society   \n",
       "\n",
       "                            committee_name committee_subtype committee_type  \\\n",
       "0          Supporters of Katherine Schacht              None             CC   \n",
       "...                                    ...               ...            ...   \n",
       "3278  Cottage Grove Blackberry Pie Society     Miscellaneous            PAC   \n",
       "\n",
       "         ...        total total_spent  website  pos_amount  \n",
       "0        ...      1083.15     1664.61     None     8104.57  \n",
       "...      ...          ...         ...      ...         ...  \n",
       "3278     ...       180.00      171.80     None         NaN  \n",
       "\n",
       "[2384 rows x 18 columns]"
      ]
     },
     "execution_count": 6,
     "metadata": {},
     "output_type": "execute_result"
    }
   ],
   "source": [
    "df = pd.DataFrame.from_records(qs)\n",
    "df = pd.DataFrame(df[df.committee_name.astype(bool)])\n",
    "df['pos_amount'] = pd.DataFrame.from_records(qs_pos.values('pos_amount').all())['pos_amount']\n",
    "df"
   ]
  },
  {
   "cell_type": "markdown",
   "metadata": {},
   "source": [
    "# Pandas indices are tricky\n",
    "Did all the rows get inserted in the right place (are the indices still alligned)\n"
   ]
  },
  {
   "cell_type": "code",
   "execution_count": 7,
   "metadata": {
    "collapsed": false
   },
   "outputs": [
    {
     "data": {
      "text/html": [
       "<div>\n",
       "<table border=\"1\" class=\"dataframe\">\n",
       "  <thead>\n",
       "    <tr style=\"text-align: right;\">\n",
       "      <th></th>\n",
       "      <th>candidate_name</th>\n",
       "      <th>committee_name</th>\n",
       "      <th>committee_subtype</th>\n",
       "      <th>committee_type</th>\n",
       "      <th>...</th>\n",
       "      <th>total</th>\n",
       "      <th>total_spent</th>\n",
       "      <th>website</th>\n",
       "      <th>pos_amount</th>\n",
       "    </tr>\n",
       "  </thead>\n",
       "  <tbody>\n",
       "    <tr>\n",
       "      <th>0</th>\n",
       "      <td>True</td>\n",
       "      <td>True</td>\n",
       "      <td>False</td>\n",
       "      <td>True</td>\n",
       "      <td>...</td>\n",
       "      <td>True</td>\n",
       "      <td>True</td>\n",
       "      <td>False</td>\n",
       "      <td>True</td>\n",
       "    </tr>\n",
       "    <tr>\n",
       "      <th>...</th>\n",
       "      <td>...</td>\n",
       "      <td>...</td>\n",
       "      <td>...</td>\n",
       "      <td>...</td>\n",
       "      <td>...</td>\n",
       "      <td>...</td>\n",
       "      <td>...</td>\n",
       "      <td>...</td>\n",
       "      <td>...</td>\n",
       "    </tr>\n",
       "    <tr>\n",
       "      <th>3278</th>\n",
       "      <td>True</td>\n",
       "      <td>True</td>\n",
       "      <td>True</td>\n",
       "      <td>True</td>\n",
       "      <td>...</td>\n",
       "      <td>True</td>\n",
       "      <td>True</td>\n",
       "      <td>False</td>\n",
       "      <td>False</td>\n",
       "    </tr>\n",
       "  </tbody>\n",
       "</table>\n",
       "<p>2384 rows × 18 columns</p>\n",
       "</div>"
      ],
      "text/plain": [
       "     candidate_name committee_name committee_subtype committee_type  \\\n",
       "0              True           True             False           True   \n",
       "...             ...            ...               ...            ...   \n",
       "3278           True           True              True           True   \n",
       "\n",
       "        ...     total total_spent website pos_amount  \n",
       "0       ...      True        True   False       True  \n",
       "...     ...       ...         ...     ...        ...  \n",
       "3278    ...      True        True   False      False  \n",
       "\n",
       "[2384 rows x 18 columns]"
      ]
     },
     "execution_count": 7,
     "metadata": {},
     "output_type": "execute_result"
    }
   ],
   "source": [
    "df == df_pos"
   ]
  },
  {
   "cell_type": "code",
   "execution_count": 8,
   "metadata": {
    "collapsed": false
   },
   "outputs": [
    {
     "data": {
      "text/plain": [
       "candidate_name       1.000000\n",
       "committee_name       1.000000\n",
       "committee_subtype    0.350671\n",
       "                       ...   \n",
       "total_spent          0.946309\n",
       "website              0.037752\n",
       "pos_amount           0.730705\n",
       "dtype: float64"
      ]
     },
     "execution_count": 8,
     "metadata": {},
     "output_type": "execute_result"
    }
   ],
   "source": [
    "pd.options.display.max_rows = 6\n",
    "(df == df_pos).mean()"
   ]
  },
  {
   "cell_type": "markdown",
   "metadata": {},
   "source": [
    "# A NaN is not equal to a NaN!\n",
    "Any operation involving a NaN returns a NaN  \n",
    "And NaN (like None) always evaluates to False  "
   ]
  },
  {
   "cell_type": "code",
   "execution_count": 9,
   "metadata": {
    "collapsed": false
   },
   "outputs": [
    {
     "data": {
      "text/plain": [
       "candidate_name       1\n",
       "committee_name       1\n",
       "committee_subtype    1\n",
       "                    ..\n",
       "total_spent          1\n",
       "website              1\n",
       "pos_amount           1\n",
       "dtype: float64"
      ]
     },
     "execution_count": 9,
     "metadata": {},
     "output_type": "execute_result"
    }
   ],
   "source": [
    "(df == df_pos).mean() + df.isnull().mean()"
   ]
  },
  {
   "cell_type": "markdown",
   "metadata": {},
   "source": [
    "# Negative transaction amounts?"
   ]
  },
  {
   "cell_type": "code",
   "execution_count": 10,
   "metadata": {
    "collapsed": false
   },
   "outputs": [
    {
     "data": {
      "text/html": [
       "<div>\n",
       "<table border=\"1\" class=\"dataframe\">\n",
       "  <thead>\n",
       "    <tr style=\"text-align: right;\">\n",
       "      <th></th>\n",
       "      <th>candidate_name</th>\n",
       "      <th>committee_name</th>\n",
       "      <th>committee_subtype</th>\n",
       "      <th>committee_type</th>\n",
       "      <th>...</th>\n",
       "      <th>total_spent</th>\n",
       "      <th>website</th>\n",
       "      <th>pos_amount</th>\n",
       "      <th>neg_amount</th>\n",
       "    </tr>\n",
       "  </thead>\n",
       "  <tbody>\n",
       "    <tr>\n",
       "      <th>0</th>\n",
       "      <td>Katherine Schacht</td>\n",
       "      <td>Supporters of Katherine Schacht</td>\n",
       "      <td>None</td>\n",
       "      <td>CC</td>\n",
       "      <td>...</td>\n",
       "      <td>1664.61</td>\n",
       "      <td>None</td>\n",
       "      <td>8104.57</td>\n",
       "      <td>-145.06</td>\n",
       "    </tr>\n",
       "    <tr>\n",
       "      <th>1</th>\n",
       "      <td>James Diefenderfer</td>\n",
       "      <td>James Diefenderfer Political Action Committee</td>\n",
       "      <td>None</td>\n",
       "      <td>CC</td>\n",
       "      <td>...</td>\n",
       "      <td>4616.00</td>\n",
       "      <td>None</td>\n",
       "      <td>9968.10</td>\n",
       "      <td>-250.54</td>\n",
       "    </tr>\n",
       "    <tr>\n",
       "      <th>2</th>\n",
       "      <td>Josephine County Democratic Central Committee</td>\n",
       "      <td>Josephine County Democratic Central Committee</td>\n",
       "      <td>Political Party</td>\n",
       "      <td>PAC</td>\n",
       "      <td>...</td>\n",
       "      <td>21791.93</td>\n",
       "      <td>None</td>\n",
       "      <td>49027.07</td>\n",
       "      <td>-1205.29</td>\n",
       "    </tr>\n",
       "    <tr>\n",
       "      <th>...</th>\n",
       "      <td>...</td>\n",
       "      <td>...</td>\n",
       "      <td>...</td>\n",
       "      <td>...</td>\n",
       "      <td>...</td>\n",
       "      <td>...</td>\n",
       "      <td>...</td>\n",
       "      <td>...</td>\n",
       "      <td>...</td>\n",
       "    </tr>\n",
       "    <tr>\n",
       "      <th>3276</th>\n",
       "      <td>American College of Cardiology - Oregon Chapte...</td>\n",
       "      <td>American College of Cardiology - Oregon Chapte...</td>\n",
       "      <td>Miscellaneous</td>\n",
       "      <td>PAC</td>\n",
       "      <td>...</td>\n",
       "      <td>5999.39</td>\n",
       "      <td>None</td>\n",
       "      <td>NaN</td>\n",
       "      <td>NaN</td>\n",
       "    </tr>\n",
       "    <tr>\n",
       "      <th>3277</th>\n",
       "      <td>Oregon Professional Fire Fighters PAC</td>\n",
       "      <td>Oregon Professional Fire Fighters PAC</td>\n",
       "      <td>Miscellaneous</td>\n",
       "      <td>PAC</td>\n",
       "      <td>...</td>\n",
       "      <td>17500.00</td>\n",
       "      <td>None</td>\n",
       "      <td>NaN</td>\n",
       "      <td>NaN</td>\n",
       "    </tr>\n",
       "    <tr>\n",
       "      <th>3278</th>\n",
       "      <td>Cottage Grove Blackberry Pie Society</td>\n",
       "      <td>Cottage Grove Blackberry Pie Society</td>\n",
       "      <td>Miscellaneous</td>\n",
       "      <td>PAC</td>\n",
       "      <td>...</td>\n",
       "      <td>171.80</td>\n",
       "      <td>None</td>\n",
       "      <td>NaN</td>\n",
       "      <td>NaN</td>\n",
       "    </tr>\n",
       "  </tbody>\n",
       "</table>\n",
       "<p>2384 rows × 19 columns</p>\n",
       "</div>"
      ],
      "text/plain": [
       "                                         candidate_name  \\\n",
       "0                                     Katherine Schacht   \n",
       "1                                    James Diefenderfer   \n",
       "2         Josephine County Democratic Central Committee   \n",
       "...                                                 ...   \n",
       "3276  American College of Cardiology - Oregon Chapte...   \n",
       "3277              Oregon Professional Fire Fighters PAC   \n",
       "3278               Cottage Grove Blackberry Pie Society   \n",
       "\n",
       "                                         committee_name committee_subtype  \\\n",
       "0                       Supporters of Katherine Schacht              None   \n",
       "1         James Diefenderfer Political Action Committee              None   \n",
       "2         Josephine County Democratic Central Committee   Political Party   \n",
       "...                                                 ...               ...   \n",
       "3276  American College of Cardiology - Oregon Chapte...     Miscellaneous   \n",
       "3277              Oregon Professional Fire Fighters PAC     Miscellaneous   \n",
       "3278               Cottage Grove Blackberry Pie Society     Miscellaneous   \n",
       "\n",
       "     committee_type     ...     total_spent website  pos_amount  neg_amount  \n",
       "0                CC     ...         1664.61    None     8104.57     -145.06  \n",
       "1                CC     ...         4616.00    None     9968.10     -250.54  \n",
       "2               PAC     ...        21791.93    None    49027.07    -1205.29  \n",
       "...             ...     ...             ...     ...         ...         ...  \n",
       "3276            PAC     ...         5999.39    None         NaN         NaN  \n",
       "3277            PAC     ...        17500.00    None         NaN         NaN  \n",
       "3278            PAC     ...          171.80    None         NaN         NaN  \n",
       "\n",
       "[2384 rows x 19 columns]"
      ]
     },
     "execution_count": 10,
     "metadata": {},
     "output_type": "execute_result"
    }
   ],
   "source": [
    "qs_neg = CampaignDetail.objects.filter(workingtransactions__amount__lt=0)\n",
    "qs_neg = qs_neg.annotate(neg_amount=Sum('workingtransactions__amount'))\n",
    "df = df.join(pd.DataFrame.from_records(qs_neg.values('neg_amount').all())['neg_amount'])\n",
    "df"
   ]
  },
  {
   "cell_type": "code",
   "execution_count": 11,
   "metadata": {
    "collapsed": false
   },
   "outputs": [
    {
     "name": "stdout",
     "output_type": "stream",
     "text": [
      "Positve transactions: 933.0 M\n"
     ]
    }
   ],
   "source": [
    "print('Positve transactions: {:,} M'.format(round(sum(qs_pos.values_list('pos_amount', flat=True)) / 1e6)))"
   ]
  },
  {
   "cell_type": "code",
   "execution_count": 12,
   "metadata": {
    "collapsed": false
   },
   "outputs": [
    {
     "name": "stdout",
     "output_type": "stream",
     "text": [
      "Negative transactions: -0.42 M\n"
     ]
    }
   ],
   "source": [
    "print('Negative transactions: {:,} M'.format(round(sum(qs_neg.values_list('neg_amount', flat=True)) / 1.e6, 2)))"
   ]
  },
  {
   "cell_type": "code",
   "execution_count": 13,
   "metadata": {
    "collapsed": false
   },
   "outputs": [
    {
     "name": "stdout",
     "output_type": "stream",
     "text": [
      "Net net transactions: 1,039.0 M\n"
     ]
    }
   ],
   "source": [
    "print('Net net transactions: {:,} M'.format(round(sum(qs.values_list('net_amount', flat=True)) / 1.e6)))"
   ]
  },
  {
   "cell_type": "markdown",
   "metadata": {},
   "source": [
    "## Something's fishy in Denmark ^"
   ]
  },
  {
   "cell_type": "code",
   "execution_count": 14,
   "metadata": {
    "collapsed": false
   },
   "outputs": [
    {
     "data": {
      "text/plain": [
       "filer_id       3.072790e+07\n",
       "grassroots     6.504941e+02\n",
       "instate        1.397825e+03\n",
       "                   ...     \n",
       "total_spent    3.014980e+08\n",
       "pos_amount     6.883204e+08\n",
       "neg_amount    -3.254632e+05\n",
       "dtype: float64"
      ]
     },
     "execution_count": 14,
     "metadata": {},
     "output_type": "execute_result"
    }
   ],
   "source": [
    "df.sum()"
   ]
  },
  {
   "cell_type": "code",
   "execution_count": 20,
   "metadata": {
    "collapsed": false
   },
   "outputs": [
    {
     "name": "stdout",
     "output_type": "stream",
     "text": [
      "Net amount: $687.99 M\n"
     ]
    }
   ],
   "source": [
    "print('Net amount: ${:} M'.format(round(df.sum()[['pos_amount', 'neg_amount']].sum()/1e6, 2)))"
   ]
  },
  {
   "cell_type": "code",
   "execution_count": 21,
   "metadata": {
    "collapsed": false
   },
   "outputs": [
    {
     "name": "stdout",
     "output_type": "stream",
     "text": [
      "Volume: $688.65 M\n"
     ]
    }
   ],
   "source": [
    "print('Volume: ${:} M'.format(round(np.abs(df.sum()[['pos_amount', 'neg_amount']]).sum()/1e6, 2)))"
   ]
  },
  {
   "cell_type": "markdown",
   "metadata": {},
   "source": [
    "# Directed graph of financial transactions\n",
    "Are the payee_committee_ids the same as \"filer_id\"?"
   ]
  },
  {
   "cell_type": "code",
   "execution_count": 22,
   "metadata": {
    "collapsed": false
   },
   "outputs": [
    {
     "data": {
      "text/plain": [
       "0.5310975609756098"
      ]
     },
     "execution_count": 22,
     "metadata": {},
     "output_type": "execute_result"
    }
   ],
   "source": [
    "filer_id = set(pd.DataFrame.from_records(WorkingTransactions.objects.values(\n",
    "               'filer_id').all()).dropna().values.T[0])\n",
    "payee_id = set(pd.DataFrame.from_records(WorkingTransactions.objects.values(\n",
    "               'contributor_payee_committee_id').all()).dropna().values.T[0])\n",
    "com_id = set()\n",
    "len(payee_id.intersection(filer_id)) * 1. / len(filer_id)"
   ]
  },
  {
   "cell_type": "markdown",
   "metadata": {},
   "source": [
    "# Good enough for Government Work\n",
    "53% of payee_ids were found in the filer_id of the same Table\n",
    "filer_id -> payee_id"
   ]
  },
  {
   "cell_type": "code",
   "execution_count": 23,
   "metadata": {
    "collapsed": false
   },
   "outputs": [
    {
     "name": "stdout",
     "output_type": "stream",
     "text": [
      "addr_line1    1149 Court St NE\n",
      "addr_line2                None\n",
      "amount                    5000\n",
      "                    ...       \n",
      "tran_date           2012-08-23\n",
      "tran_id                1317714\n",
      "zip                      97301\n",
      "Name: 0, dtype: object\n",
      "['addr_line1' 'addr_line2' 'amount' 'book_type' 'city' 'contributor_payee'\n",
      " 'contributor_payee_class' 'contributor_payee_committee_id' 'direction'\n",
      " 'filed_date' 'filer' u'filer_id_id' 'purp_desc' 'purpose_codes' 'state'\n",
      " 'sub_type' 'tran_date' 'tran_id' 'zip']\n"
     ]
    }
   ],
   "source": [
    "qs = WorkingTransactions.objects.filter(filer_id__isnull=False, \n",
    "                                        contributor_payee_committee_id__isnull=False,\n",
    "                                        amount__gt=0)\n",
    "df_trans = pd.DataFrame.from_records(qs.values().all())\n",
    "_, trans = df_trans.iterrows().next()\n",
    "print(trans)\n",
    "print(trans.index.values)"
   ]
  },
  {
   "cell_type": "markdown",
   "metadata": {},
   "source": [
    "# Lets compute a similarity matrix from positive transactions"
   ]
  },
  {
   "cell_type": "code",
   "execution_count": 34,
   "metadata": {
    "collapsed": false
   },
   "outputs": [
    {
     "name": "stdout",
     "output_type": "stream",
     "text": [
      "filer  3  4  9  10  ...    16368  16371  16372  16373\n",
      "payee               ...                              \n",
      "3      0  0  0   0  ...        0      0      0      0\n",
      "4      0  0  0   0  ...        0      0      0      0\n",
      "9      0  0  0   0  ...        0      0      0      0\n",
      "...   .. .. ..  ..  ...      ...    ...    ...    ...\n",
      "16371  0  0  0   0  ...        0      0      0      0\n",
      "16372  0  0  0   0  ...        0      0      0      0\n",
      "16373  0  0  0   0  ...        0      0      0      0\n",
      "\n",
      "[1742 rows x 1742 columns]\n"
     ]
    },
    {
     "data": {
      "text/html": [
       "<div>\n",
       "<table border=\"1\" class=\"dataframe\">\n",
       "  <thead>\n",
       "    <tr style=\"text-align: right;\">\n",
       "      <th></th>\n",
       "      <th>3</th>\n",
       "      <th>4</th>\n",
       "      <th>9</th>\n",
       "      <th>10</th>\n",
       "      <th>...</th>\n",
       "      <th>16368</th>\n",
       "      <th>16371</th>\n",
       "      <th>16372</th>\n",
       "      <th>16373</th>\n",
       "    </tr>\n",
       "  </thead>\n",
       "  <tbody>\n",
       "    <tr>\n",
       "      <th>count</th>\n",
       "      <td>1742.000000</td>\n",
       "      <td>1742.000000</td>\n",
       "      <td>1742.000000</td>\n",
       "      <td>1742.000000</td>\n",
       "      <td>...</td>\n",
       "      <td>1742.000000</td>\n",
       "      <td>1742</td>\n",
       "      <td>1742</td>\n",
       "      <td>1742</td>\n",
       "    </tr>\n",
       "    <tr>\n",
       "      <th>mean</th>\n",
       "      <td>508.514259</td>\n",
       "      <td>1453.846768</td>\n",
       "      <td>6.601607</td>\n",
       "      <td>1685.432233</td>\n",
       "      <td>...</td>\n",
       "      <td>0.904311</td>\n",
       "      <td>0</td>\n",
       "      <td>0</td>\n",
       "      <td>0</td>\n",
       "    </tr>\n",
       "    <tr>\n",
       "      <th>std</th>\n",
       "      <td>3163.788917</td>\n",
       "      <td>12354.042222</td>\n",
       "      <td>104.601433</td>\n",
       "      <td>15011.489409</td>\n",
       "      <td>...</td>\n",
       "      <td>32.310260</td>\n",
       "      <td>0</td>\n",
       "      <td>0</td>\n",
       "      <td>0</td>\n",
       "    </tr>\n",
       "    <tr>\n",
       "      <th>...</th>\n",
       "      <td>...</td>\n",
       "      <td>...</td>\n",
       "      <td>...</td>\n",
       "      <td>...</td>\n",
       "      <td>...</td>\n",
       "      <td>...</td>\n",
       "      <td>...</td>\n",
       "      <td>...</td>\n",
       "      <td>...</td>\n",
       "    </tr>\n",
       "    <tr>\n",
       "      <th>50%</th>\n",
       "      <td>0.000000</td>\n",
       "      <td>0.000000</td>\n",
       "      <td>0.000000</td>\n",
       "      <td>0.000000</td>\n",
       "      <td>...</td>\n",
       "      <td>0.000000</td>\n",
       "      <td>0</td>\n",
       "      <td>0</td>\n",
       "      <td>0</td>\n",
       "    </tr>\n",
       "    <tr>\n",
       "      <th>75%</th>\n",
       "      <td>0.000000</td>\n",
       "      <td>0.000000</td>\n",
       "      <td>0.000000</td>\n",
       "      <td>0.000000</td>\n",
       "      <td>...</td>\n",
       "      <td>0.000000</td>\n",
       "      <td>0</td>\n",
       "      <td>0</td>\n",
       "      <td>0</td>\n",
       "    </tr>\n",
       "    <tr>\n",
       "      <th>max</th>\n",
       "      <td>54000.000000</td>\n",
       "      <td>318000.000000</td>\n",
       "      <td>3250.000000</td>\n",
       "      <td>504000.000000</td>\n",
       "      <td>...</td>\n",
       "      <td>1325.310000</td>\n",
       "      <td>0</td>\n",
       "      <td>0</td>\n",
       "      <td>0</td>\n",
       "    </tr>\n",
       "  </tbody>\n",
       "</table>\n",
       "<p>8 rows × 1742 columns</p>\n",
       "</div>"
      ],
      "text/plain": [
       "                  3              4            9             10  ...    \\\n",
       "count   1742.000000    1742.000000  1742.000000    1742.000000  ...     \n",
       "mean     508.514259    1453.846768     6.601607    1685.432233  ...     \n",
       "std     3163.788917   12354.042222   104.601433   15011.489409  ...     \n",
       "...             ...            ...          ...            ...  ...     \n",
       "50%        0.000000       0.000000     0.000000       0.000000  ...     \n",
       "75%        0.000000       0.000000     0.000000       0.000000  ...     \n",
       "max    54000.000000  318000.000000  3250.000000  504000.000000  ...     \n",
       "\n",
       "             16368  16371  16372  16373  \n",
       "count  1742.000000   1742   1742   1742  \n",
       "mean      0.904311      0      0      0  \n",
       "std      32.310260      0      0      0  \n",
       "...            ...    ...    ...    ...  \n",
       "50%       0.000000      0      0      0  \n",
       "75%       0.000000      0      0      0  \n",
       "max    1325.310000      0      0      0  \n",
       "\n",
       "[8 rows x 1742 columns]"
      ]
     },
     "execution_count": 34,
     "metadata": {},
     "output_type": "execute_result"
    }
   ],
   "source": [
    "ids = [int(i) for i in payee_id.intersection(filer_id)]\n",
    "id_set = set(ids)\n",
    "id_str = [str(int(i)) for i in ids]\n",
    "N = len(ids)\n",
    "cov = pd.DataFrame(np.zeros((N, N)),\n",
    "                   index=pd.Index(id_str, name='payee'),\n",
    "                   columns=pd.Index(id_str, name='filer'))\n",
    "print(cov)\n",
    "for rownum, trans in df_trans.iterrows():\n",
    "    fid = trans['filer_id_id']\n",
    "    # print(trans.index.values)\n",
    "    cid = trans['contributor_payee_committee_id']\n",
    "    if fid in id_set and cid in id_set:\n",
    "#         if not (fid % 100):\n",
    "#             print(cov[str(fid)][str(cid)])\n",
    "        #only populate the upper\n",
    "        if fid > cid:\n",
    "            fid, cid = cid, fid\n",
    "        amount = abs(trans['amount'])\n",
    "        if amount > 0:\n",
    "            cov[str(fid)][str(cid)] += amount\n",
    "cov.describe()\n",
    "    "
   ]
  },
  {
   "cell_type": "code",
   "execution_count": 30,
   "metadata": {
    "collapsed": false
   },
   "outputs": [
    {
     "data": {
      "text/html": [
       "<div>\n",
       "<table border=\"1\" class=\"dataframe\">\n",
       "  <thead>\n",
       "    <tr style=\"text-align: right;\">\n",
       "      <th>filer</th>\n",
       "      <th>3</th>\n",
       "      <th>4</th>\n",
       "      <th>9</th>\n",
       "      <th>10</th>\n",
       "      <th>...</th>\n",
       "      <th>16368</th>\n",
       "      <th>16371</th>\n",
       "      <th>16372</th>\n",
       "      <th>16373</th>\n",
       "    </tr>\n",
       "    <tr>\n",
       "      <th>payee</th>\n",
       "      <th></th>\n",
       "      <th></th>\n",
       "      <th></th>\n",
       "      <th></th>\n",
       "      <th></th>\n",
       "      <th></th>\n",
       "      <th></th>\n",
       "      <th></th>\n",
       "      <th></th>\n",
       "    </tr>\n",
       "  </thead>\n",
       "  <tbody>\n",
       "    <tr>\n",
       "      <th>3</th>\n",
       "      <td>0</td>\n",
       "      <td>0</td>\n",
       "      <td>0</td>\n",
       "      <td>0</td>\n",
       "      <td>...</td>\n",
       "      <td>0.00</td>\n",
       "      <td>0</td>\n",
       "      <td>0</td>\n",
       "      <td>0</td>\n",
       "    </tr>\n",
       "    <tr>\n",
       "      <th>4</th>\n",
       "      <td>0</td>\n",
       "      <td>0</td>\n",
       "      <td>0</td>\n",
       "      <td>0</td>\n",
       "      <td>...</td>\n",
       "      <td>0.00</td>\n",
       "      <td>0</td>\n",
       "      <td>0</td>\n",
       "      <td>0</td>\n",
       "    </tr>\n",
       "    <tr>\n",
       "      <th>9</th>\n",
       "      <td>0</td>\n",
       "      <td>0</td>\n",
       "      <td>0</td>\n",
       "      <td>0</td>\n",
       "      <td>...</td>\n",
       "      <td>0.00</td>\n",
       "      <td>0</td>\n",
       "      <td>0</td>\n",
       "      <td>0</td>\n",
       "    </tr>\n",
       "    <tr>\n",
       "      <th>...</th>\n",
       "      <td>...</td>\n",
       "      <td>...</td>\n",
       "      <td>...</td>\n",
       "      <td>...</td>\n",
       "      <td>...</td>\n",
       "      <td>...</td>\n",
       "      <td>...</td>\n",
       "      <td>...</td>\n",
       "      <td>...</td>\n",
       "    </tr>\n",
       "    <tr>\n",
       "      <th>16371</th>\n",
       "      <td>0</td>\n",
       "      <td>0</td>\n",
       "      <td>0</td>\n",
       "      <td>0</td>\n",
       "      <td>...</td>\n",
       "      <td>250.00</td>\n",
       "      <td>0</td>\n",
       "      <td>0</td>\n",
       "      <td>0</td>\n",
       "    </tr>\n",
       "    <tr>\n",
       "      <th>16372</th>\n",
       "      <td>0</td>\n",
       "      <td>0</td>\n",
       "      <td>0</td>\n",
       "      <td>0</td>\n",
       "      <td>...</td>\n",
       "      <td>0.00</td>\n",
       "      <td>0</td>\n",
       "      <td>0</td>\n",
       "      <td>0</td>\n",
       "    </tr>\n",
       "    <tr>\n",
       "      <th>16373</th>\n",
       "      <td>0</td>\n",
       "      <td>0</td>\n",
       "      <td>0</td>\n",
       "      <td>0</td>\n",
       "      <td>...</td>\n",
       "      <td>1325.31</td>\n",
       "      <td>0</td>\n",
       "      <td>0</td>\n",
       "      <td>0</td>\n",
       "    </tr>\n",
       "  </tbody>\n",
       "</table>\n",
       "<p>1742 rows × 1742 columns</p>\n",
       "</div>"
      ],
      "text/plain": [
       "filer  3  4  9  10  ...      16368  16371  16372  16373\n",
       "payee               ...                                \n",
       "3      0  0  0   0  ...       0.00      0      0      0\n",
       "4      0  0  0   0  ...       0.00      0      0      0\n",
       "9      0  0  0   0  ...       0.00      0      0      0\n",
       "...   .. .. ..  ..  ...        ...    ...    ...    ...\n",
       "16371  0  0  0   0  ...     250.00      0      0      0\n",
       "16372  0  0  0   0  ...       0.00      0      0      0\n",
       "16373  0  0  0   0  ...    1325.31      0      0      0\n",
       "\n",
       "[1742 rows x 1742 columns]"
      ]
     },
     "execution_count": 30,
     "metadata": {},
     "output_type": "execute_result"
    }
   ],
   "source": [
    "cov"
   ]
  },
  {
   "cell_type": "code",
   "execution_count": 31,
   "metadata": {
    "collapsed": false
   },
   "outputs": [
    {
     "data": {
      "text/plain": [
       "filer\n",
       "3         885831.84\n",
       "4        2532601.07\n",
       "9          11500.00\n",
       "            ...    \n",
       "16371          0.00\n",
       "16372          0.00\n",
       "16373          0.00\n",
       "dtype: float64"
      ]
     },
     "execution_count": 31,
     "metadata": {},
     "output_type": "execute_result"
    }
   ],
   "source": [
    "cov.sum()"
   ]
  }
 ],
 "metadata": {
  "kernelspec": {
   "display_name": "Python 2",
   "language": "python",
   "name": "python2"
  },
  "language_info": {
   "codemirror_mode": {
    "name": "ipython",
    "version": 2
   },
   "file_extension": ".py",
   "mimetype": "text/x-python",
   "name": "python",
   "nbconvert_exporter": "python",
   "pygments_lexer": "ipython2",
   "version": "2.7.9"
  }
 },
 "nbformat": 4,
 "nbformat_minor": 0
}
