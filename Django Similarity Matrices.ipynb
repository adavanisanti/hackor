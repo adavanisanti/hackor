{
 "cells": [
  {
   "cell_type": "code",
   "execution_count": 44,
   "metadata": {
    "collapsed": false
   },
   "outputs": [
    {
     "data": {
      "text/plain": [
       "(3280, 997955)"
      ]
     },
     "execution_count": 44,
     "metadata": {},
     "output_type": "execute_result"
    }
   ],
   "source": [
    "import re\n",
    "import pandas as pd\n",
    "pd.options.display.max_columns = 9\n",
    "pd.options.display.max_rows = 3\n",
    "np = pd.np\n",
    "np.norm = np.linalg.norm\n",
    "from datetime import datetime, date\n",
    "import json\n",
    "from matplotlib import pyplot as plt\n",
    "%matplotlib inline\n",
    "plt.style.use('ggplot')\n",
    "\n",
    "from sklearn.feature_extraction.text import TfidfVectorizer  # equivalent to TFIDFTransformer(CountVectorizer())\n",
    "from django.db.models import Sum\n",
    "\n",
    "from pacs.models import CampaignDetail, WorkingTransactions\n",
    "import django\n",
    "django.setup()\n",
    "CampaignDetail.objects.count(), WorkingTransactions.objects.count()\n",
    "\n"
   ]
  },
  {
   "cell_type": "markdown",
   "metadata": {},
   "source": [
    "# Django\n",
    "This is how you join CampaignDetail & WorkingTransactions  \n",
    "and aggregate the WorkingTransactions.amount"
   ]
  },
  {
   "cell_type": "code",
   "execution_count": 45,
   "metadata": {
    "collapsed": false
   },
   "outputs": [],
   "source": [
    "qs = CampaignDetail.objects.annotate(net_amount=Sum('workingtransactions__amount')).values().all()"
   ]
  },
  {
   "cell_type": "markdown",
   "metadata": {},
   "source": [
    "Convert a Django Queryset into a Pandas DataFrame"
   ]
  },
  {
   "cell_type": "code",
   "execution_count": 46,
   "metadata": {
    "collapsed": false
   },
   "outputs": [
    {
     "data": {
      "text/html": [
       "<div>\n",
       "<table border=\"1\" class=\"dataframe\">\n",
       "  <thead>\n",
       "    <tr style=\"text-align: right;\">\n",
       "      <th></th>\n",
       "      <th>candidate_name</th>\n",
       "      <th>committee_name</th>\n",
       "      <th>committee_subtype</th>\n",
       "      <th>committee_type</th>\n",
       "      <th>...</th>\n",
       "      <th>race</th>\n",
       "      <th>total</th>\n",
       "      <th>total_spent</th>\n",
       "      <th>website</th>\n",
       "    </tr>\n",
       "  </thead>\n",
       "  <tbody>\n",
       "    <tr>\n",
       "      <th>0</th>\n",
       "      <td>Katherine Schacht</td>\n",
       "      <td>Supporters of Katherine Schacht</td>\n",
       "      <td>None</td>\n",
       "      <td>CC</td>\n",
       "      <td>...</td>\n",
       "      <td>2016 Election Director Emerald People's Utilit...</td>\n",
       "      <td>1083.15</td>\n",
       "      <td>1664.61</td>\n",
       "      <td>None</td>\n",
       "    </tr>\n",
       "    <tr>\n",
       "      <th>...</th>\n",
       "      <td>...</td>\n",
       "      <td>...</td>\n",
       "      <td>...</td>\n",
       "      <td>...</td>\n",
       "      <td>...</td>\n",
       "      <td>...</td>\n",
       "      <td>...</td>\n",
       "      <td>...</td>\n",
       "      <td>...</td>\n",
       "    </tr>\n",
       "    <tr>\n",
       "      <th>3279</th>\n",
       "      <td>NaN</td>\n",
       "      <td>NaN</td>\n",
       "      <td>NaN</td>\n",
       "      <td>NaN</td>\n",
       "      <td>...</td>\n",
       "      <td>NaN</td>\n",
       "      <td>NaN</td>\n",
       "      <td>NaN</td>\n",
       "      <td>NaN</td>\n",
       "    </tr>\n",
       "  </tbody>\n",
       "</table>\n",
       "<p>3280 rows × 17 columns</p>\n",
       "</div>"
      ],
      "text/plain": [
       "         candidate_name                   committee_name committee_subtype  \\\n",
       "0     Katherine Schacht  Supporters of Katherine Schacht              None   \n",
       "...                 ...                              ...               ...   \n",
       "3279                NaN                              NaN               NaN   \n",
       "\n",
       "     committee_type   ...     \\\n",
       "0                CC   ...      \n",
       "...             ...   ...      \n",
       "3279            NaN   ...      \n",
       "\n",
       "                                                   race    total  total_spent  \\\n",
       "0     2016 Election Director Emerald People's Utilit...  1083.15      1664.61   \n",
       "...                                                 ...      ...          ...   \n",
       "3279                                                NaN      NaN          NaN   \n",
       "\n",
       "      website  \n",
       "0        None  \n",
       "...       ...  \n",
       "3279      NaN  \n",
       "\n",
       "[3280 rows x 17 columns]"
      ]
     },
     "execution_count": 46,
     "metadata": {},
     "output_type": "execute_result"
    }
   ],
   "source": [
    "df = pd.DataFrame.from_records(qs)\n",
    "df"
   ]
  },
  {
   "cell_type": "code",
   "execution_count": 47,
   "metadata": {
    "collapsed": false
   },
   "outputs": [
    {
     "data": {
      "text/html": [
       "<div>\n",
       "<table border=\"1\" class=\"dataframe\">\n",
       "  <thead>\n",
       "    <tr style=\"text-align: right;\">\n",
       "      <th></th>\n",
       "      <th>candidate_name</th>\n",
       "      <th>committee_name</th>\n",
       "      <th>committee_subtype</th>\n",
       "      <th>committee_type</th>\n",
       "      <th>...</th>\n",
       "      <th>race</th>\n",
       "      <th>total</th>\n",
       "      <th>total_spent</th>\n",
       "      <th>website</th>\n",
       "    </tr>\n",
       "  </thead>\n",
       "  <tbody>\n",
       "    <tr>\n",
       "      <th>0</th>\n",
       "      <td>Katherine Schacht</td>\n",
       "      <td>Supporters of Katherine Schacht</td>\n",
       "      <td>None</td>\n",
       "      <td>CC</td>\n",
       "      <td>...</td>\n",
       "      <td>2016 Election Director Emerald People's Utilit...</td>\n",
       "      <td>1083.15</td>\n",
       "      <td>1664.61</td>\n",
       "      <td>None</td>\n",
       "    </tr>\n",
       "    <tr>\n",
       "      <th>...</th>\n",
       "      <td>...</td>\n",
       "      <td>...</td>\n",
       "      <td>...</td>\n",
       "      <td>...</td>\n",
       "      <td>...</td>\n",
       "      <td>...</td>\n",
       "      <td>...</td>\n",
       "      <td>...</td>\n",
       "      <td>...</td>\n",
       "    </tr>\n",
       "    <tr>\n",
       "      <th>3278</th>\n",
       "      <td>Cottage Grove Blackberry Pie Society</td>\n",
       "      <td>Cottage Grove Blackberry Pie Society</td>\n",
       "      <td>Miscellaneous</td>\n",
       "      <td>PAC</td>\n",
       "      <td>...</td>\n",
       "      <td></td>\n",
       "      <td>180.00</td>\n",
       "      <td>171.80</td>\n",
       "      <td>None</td>\n",
       "    </tr>\n",
       "  </tbody>\n",
       "</table>\n",
       "<p>2384 rows × 17 columns</p>\n",
       "</div>"
      ],
      "text/plain": [
       "                            candidate_name  \\\n",
       "0                        Katherine Schacht   \n",
       "...                                    ...   \n",
       "3278  Cottage Grove Blackberry Pie Society   \n",
       "\n",
       "                            committee_name committee_subtype committee_type  \\\n",
       "0          Supporters of Katherine Schacht              None             CC   \n",
       "...                                    ...               ...            ...   \n",
       "3278  Cottage Grove Blackberry Pie Society     Miscellaneous            PAC   \n",
       "\n",
       "       ...                                                  race    total  \\\n",
       "0      ...     2016 Election Director Emerald People's Utilit...  1083.15   \n",
       "...    ...                                                   ...      ...   \n",
       "3278   ...                                                         180.00   \n",
       "\n",
       "      total_spent  website  \n",
       "0         1664.61     None  \n",
       "...           ...      ...  \n",
       "3278       171.80     None  \n",
       "\n",
       "[2384 rows x 17 columns]"
      ]
     },
     "execution_count": 47,
     "metadata": {},
     "output_type": "execute_result"
    }
   ],
   "source": [
    "df = pd.DataFrame(df[df.committee_name.astype(bool)])\n",
    "df"
   ]
  },
  {
   "cell_type": "markdown",
   "metadata": {},
   "source": [
    "# Pandas DataFrame.join\n",
    "What if you only want positive transactions?"
   ]
  },
  {
   "cell_type": "code",
   "execution_count": 50,
   "metadata": {
    "collapsed": false
   },
   "outputs": [
    {
     "data": {
      "text/html": [
       "<div>\n",
       "<table border=\"1\" class=\"dataframe\">\n",
       "  <thead>\n",
       "    <tr style=\"text-align: right;\">\n",
       "      <th></th>\n",
       "      <th>candidate_name</th>\n",
       "      <th>committee_name</th>\n",
       "      <th>committee_subtype</th>\n",
       "      <th>committee_type</th>\n",
       "      <th>...</th>\n",
       "      <th>total</th>\n",
       "      <th>total_spent</th>\n",
       "      <th>website</th>\n",
       "      <th>pos_amount</th>\n",
       "    </tr>\n",
       "  </thead>\n",
       "  <tbody>\n",
       "    <tr>\n",
       "      <th>0</th>\n",
       "      <td>Katherine Schacht</td>\n",
       "      <td>Supporters of Katherine Schacht</td>\n",
       "      <td>None</td>\n",
       "      <td>CC</td>\n",
       "      <td>...</td>\n",
       "      <td>1083.15</td>\n",
       "      <td>1664.61</td>\n",
       "      <td>None</td>\n",
       "      <td>8104.57</td>\n",
       "    </tr>\n",
       "    <tr>\n",
       "      <th>...</th>\n",
       "      <td>...</td>\n",
       "      <td>...</td>\n",
       "      <td>...</td>\n",
       "      <td>...</td>\n",
       "      <td>...</td>\n",
       "      <td>...</td>\n",
       "      <td>...</td>\n",
       "      <td>...</td>\n",
       "      <td>...</td>\n",
       "    </tr>\n",
       "    <tr>\n",
       "      <th>3278</th>\n",
       "      <td>Cottage Grove Blackberry Pie Society</td>\n",
       "      <td>Cottage Grove Blackberry Pie Society</td>\n",
       "      <td>Miscellaneous</td>\n",
       "      <td>PAC</td>\n",
       "      <td>...</td>\n",
       "      <td>180.00</td>\n",
       "      <td>171.80</td>\n",
       "      <td>None</td>\n",
       "      <td>NaN</td>\n",
       "    </tr>\n",
       "  </tbody>\n",
       "</table>\n",
       "<p>2384 rows × 18 columns</p>\n",
       "</div>"
      ],
      "text/plain": [
       "                            candidate_name  \\\n",
       "0                        Katherine Schacht   \n",
       "...                                    ...   \n",
       "3278  Cottage Grove Blackberry Pie Society   \n",
       "\n",
       "                            committee_name committee_subtype committee_type  \\\n",
       "0          Supporters of Katherine Schacht              None             CC   \n",
       "...                                    ...               ...            ...   \n",
       "3278  Cottage Grove Blackberry Pie Society     Miscellaneous            PAC   \n",
       "\n",
       "         ...        total total_spent  website  pos_amount  \n",
       "0        ...      1083.15     1664.61     None     8104.57  \n",
       "...      ...          ...         ...      ...         ...  \n",
       "3278     ...       180.00      171.80     None         NaN  \n",
       "\n",
       "[2384 rows x 18 columns]"
      ]
     },
     "execution_count": 50,
     "metadata": {},
     "output_type": "execute_result"
    }
   ],
   "source": [
    "qs_pos = CampaignDetail.objects.filter(committee_name__isnull=False, workingtransactions__amount__gt=0)\n",
    "qs_pos = qs_pos.annotate(pos_amount=Sum('workingtransactions__amount'))\n",
    "df_pos = df.join(pd.DataFrame.from_records(qs_pos.values('pos_amount').all())['pos_amount'])\n",
    "df_pos"
   ]
  },
  {
   "cell_type": "code",
   "execution_count": 53,
   "metadata": {
    "collapsed": false
   },
   "outputs": [
    {
     "name": "stdout",
     "output_type": "stream",
     "text": [
      "Index([u'candidate_name', u'committee_name', u'committee_subtype',\n",
      "       u'committee_type', u'db_update_status', u'election', u'filer_id',\n",
      "       u'grassroots', u'instate', u'net_amount', u'num_transactions', u'party',\n",
      "       u'phone', u'race', u'total', u'total_spent', u'website'],\n",
      "      dtype='object')\n"
     ]
    }
   ],
   "source": [
    "print(df.columns)"
   ]
  },
  {
   "cell_type": "markdown",
   "metadata": {},
   "source": [
    "### What if I just insert a new column with the values?"
   ]
  },
  {
   "cell_type": "code",
   "execution_count": 54,
   "metadata": {
    "collapsed": false
   },
   "outputs": [
    {
     "data": {
      "text/html": [
       "<div>\n",
       "<table border=\"1\" class=\"dataframe\">\n",
       "  <thead>\n",
       "    <tr style=\"text-align: right;\">\n",
       "      <th></th>\n",
       "      <th>candidate_name</th>\n",
       "      <th>committee_name</th>\n",
       "      <th>committee_subtype</th>\n",
       "      <th>committee_type</th>\n",
       "      <th>...</th>\n",
       "      <th>total</th>\n",
       "      <th>total_spent</th>\n",
       "      <th>website</th>\n",
       "      <th>pos_amount</th>\n",
       "    </tr>\n",
       "  </thead>\n",
       "  <tbody>\n",
       "    <tr>\n",
       "      <th>0</th>\n",
       "      <td>Katherine Schacht</td>\n",
       "      <td>Supporters of Katherine Schacht</td>\n",
       "      <td>None</td>\n",
       "      <td>CC</td>\n",
       "      <td>...</td>\n",
       "      <td>1083.15</td>\n",
       "      <td>1664.61</td>\n",
       "      <td>None</td>\n",
       "      <td>8104.57</td>\n",
       "    </tr>\n",
       "    <tr>\n",
       "      <th>...</th>\n",
       "      <td>...</td>\n",
       "      <td>...</td>\n",
       "      <td>...</td>\n",
       "      <td>...</td>\n",
       "      <td>...</td>\n",
       "      <td>...</td>\n",
       "      <td>...</td>\n",
       "      <td>...</td>\n",
       "      <td>...</td>\n",
       "    </tr>\n",
       "    <tr>\n",
       "      <th>3278</th>\n",
       "      <td>Cottage Grove Blackberry Pie Society</td>\n",
       "      <td>Cottage Grove Blackberry Pie Society</td>\n",
       "      <td>Miscellaneous</td>\n",
       "      <td>PAC</td>\n",
       "      <td>...</td>\n",
       "      <td>180.00</td>\n",
       "      <td>171.80</td>\n",
       "      <td>None</td>\n",
       "      <td>NaN</td>\n",
       "    </tr>\n",
       "  </tbody>\n",
       "</table>\n",
       "<p>2384 rows × 18 columns</p>\n",
       "</div>"
      ],
      "text/plain": [
       "                            candidate_name  \\\n",
       "0                        Katherine Schacht   \n",
       "...                                    ...   \n",
       "3278  Cottage Grove Blackberry Pie Society   \n",
       "\n",
       "                            committee_name committee_subtype committee_type  \\\n",
       "0          Supporters of Katherine Schacht              None             CC   \n",
       "...                                    ...               ...            ...   \n",
       "3278  Cottage Grove Blackberry Pie Society     Miscellaneous            PAC   \n",
       "\n",
       "         ...        total total_spent  website  pos_amount  \n",
       "0        ...      1083.15     1664.61     None     8104.57  \n",
       "...      ...          ...         ...      ...         ...  \n",
       "3278     ...       180.00      171.80     None         NaN  \n",
       "\n",
       "[2384 rows x 18 columns]"
      ]
     },
     "execution_count": 54,
     "metadata": {},
     "output_type": "execute_result"
    }
   ],
   "source": [
    "df = pd.DataFrame.from_records(qs)\n",
    "df = pd.DataFrame(df[df.committee_name.astype(bool)])\n",
    "df['pos_amount'] = pd.DataFrame.from_records(qs_pos.values('pos_amount').all())['pos_amount']\n",
    "df"
   ]
  },
  {
   "cell_type": "markdown",
   "metadata": {},
   "source": [
    "# Pandas indices are tricky\n",
    "Did all the rows get inserted in the right place (are the indices still alligned)\n"
   ]
  },
  {
   "cell_type": "code",
   "execution_count": 55,
   "metadata": {
    "collapsed": false
   },
   "outputs": [
    {
     "data": {
      "text/html": [
       "<div>\n",
       "<table border=\"1\" class=\"dataframe\">\n",
       "  <thead>\n",
       "    <tr style=\"text-align: right;\">\n",
       "      <th></th>\n",
       "      <th>candidate_name</th>\n",
       "      <th>committee_name</th>\n",
       "      <th>committee_subtype</th>\n",
       "      <th>committee_type</th>\n",
       "      <th>...</th>\n",
       "      <th>total</th>\n",
       "      <th>total_spent</th>\n",
       "      <th>website</th>\n",
       "      <th>pos_amount</th>\n",
       "    </tr>\n",
       "  </thead>\n",
       "  <tbody>\n",
       "    <tr>\n",
       "      <th>0</th>\n",
       "      <td>True</td>\n",
       "      <td>True</td>\n",
       "      <td>False</td>\n",
       "      <td>True</td>\n",
       "      <td>...</td>\n",
       "      <td>True</td>\n",
       "      <td>True</td>\n",
       "      <td>False</td>\n",
       "      <td>True</td>\n",
       "    </tr>\n",
       "    <tr>\n",
       "      <th>...</th>\n",
       "      <td>...</td>\n",
       "      <td>...</td>\n",
       "      <td>...</td>\n",
       "      <td>...</td>\n",
       "      <td>...</td>\n",
       "      <td>...</td>\n",
       "      <td>...</td>\n",
       "      <td>...</td>\n",
       "      <td>...</td>\n",
       "    </tr>\n",
       "    <tr>\n",
       "      <th>3278</th>\n",
       "      <td>True</td>\n",
       "      <td>True</td>\n",
       "      <td>True</td>\n",
       "      <td>True</td>\n",
       "      <td>...</td>\n",
       "      <td>True</td>\n",
       "      <td>True</td>\n",
       "      <td>False</td>\n",
       "      <td>False</td>\n",
       "    </tr>\n",
       "  </tbody>\n",
       "</table>\n",
       "<p>2384 rows × 18 columns</p>\n",
       "</div>"
      ],
      "text/plain": [
       "     candidate_name committee_name committee_subtype committee_type  \\\n",
       "0              True           True             False           True   \n",
       "...             ...            ...               ...            ...   \n",
       "3278           True           True              True           True   \n",
       "\n",
       "        ...     total total_spent website pos_amount  \n",
       "0       ...      True        True   False       True  \n",
       "...     ...       ...         ...     ...        ...  \n",
       "3278    ...      True        True   False      False  \n",
       "\n",
       "[2384 rows x 18 columns]"
      ]
     },
     "execution_count": 55,
     "metadata": {},
     "output_type": "execute_result"
    }
   ],
   "source": [
    "df == df_pos"
   ]
  },
  {
   "cell_type": "code",
   "execution_count": 56,
   "metadata": {
    "collapsed": false
   },
   "outputs": [
    {
     "data": {
      "text/plain": [
       "candidate_name    1.000000\n",
       "                    ...   \n",
       "pos_amount        0.730705\n",
       "dtype: float64"
      ]
     },
     "execution_count": 56,
     "metadata": {},
     "output_type": "execute_result"
    }
   ],
   "source": [
    "(df == df_pos).mean()"
   ]
  },
  {
   "cell_type": "markdown",
   "metadata": {},
   "source": [
    "# A NaN is not equal to a NaN!\n",
    "Any operation involving a NaN returns a NaN  \n",
    "And NaN (like None) always evaluates to False  "
   ]
  },
  {
   "cell_type": "code",
   "execution_count": 59,
   "metadata": {
    "collapsed": false
   },
   "outputs": [
    {
     "data": {
      "text/plain": [
       "candidate_name    1\n",
       "                 ..\n",
       "pos_amount        1\n",
       "dtype: float64"
      ]
     },
     "execution_count": 59,
     "metadata": {},
     "output_type": "execute_result"
    }
   ],
   "source": [
    "(df == df_pos).mean() + df.isnull().mean()"
   ]
  },
  {
   "cell_type": "markdown",
   "metadata": {},
   "source": [
    "# Negative transaction amounts?"
   ]
  },
  {
   "cell_type": "code",
   "execution_count": 62,
   "metadata": {
    "collapsed": false
   },
   "outputs": [
    {
     "data": {
      "text/html": [
       "<div>\n",
       "<table border=\"1\" class=\"dataframe\">\n",
       "  <thead>\n",
       "    <tr style=\"text-align: right;\">\n",
       "      <th></th>\n",
       "      <th>candidate_name</th>\n",
       "      <th>committee_name</th>\n",
       "      <th>committee_subtype</th>\n",
       "      <th>committee_type</th>\n",
       "      <th>...</th>\n",
       "      <th>total_spent</th>\n",
       "      <th>website</th>\n",
       "      <th>pos_amount</th>\n",
       "      <th>neg_amount</th>\n",
       "    </tr>\n",
       "  </thead>\n",
       "  <tbody>\n",
       "    <tr>\n",
       "      <th>0</th>\n",
       "      <td>Katherine Schacht</td>\n",
       "      <td>Supporters of Katherine Schacht</td>\n",
       "      <td>None</td>\n",
       "      <td>CC</td>\n",
       "      <td>...</td>\n",
       "      <td>1664.61</td>\n",
       "      <td>None</td>\n",
       "      <td>8104.57</td>\n",
       "      <td>-145.06</td>\n",
       "    </tr>\n",
       "    <tr>\n",
       "      <th>...</th>\n",
       "      <td>...</td>\n",
       "      <td>...</td>\n",
       "      <td>...</td>\n",
       "      <td>...</td>\n",
       "      <td>...</td>\n",
       "      <td>...</td>\n",
       "      <td>...</td>\n",
       "      <td>...</td>\n",
       "      <td>...</td>\n",
       "    </tr>\n",
       "    <tr>\n",
       "      <th>3278</th>\n",
       "      <td>Cottage Grove Blackberry Pie Society</td>\n",
       "      <td>Cottage Grove Blackberry Pie Society</td>\n",
       "      <td>Miscellaneous</td>\n",
       "      <td>PAC</td>\n",
       "      <td>...</td>\n",
       "      <td>171.80</td>\n",
       "      <td>None</td>\n",
       "      <td>NaN</td>\n",
       "      <td>NaN</td>\n",
       "    </tr>\n",
       "  </tbody>\n",
       "</table>\n",
       "<p>2384 rows × 19 columns</p>\n",
       "</div>"
      ],
      "text/plain": [
       "                            candidate_name  \\\n",
       "0                        Katherine Schacht   \n",
       "...                                    ...   \n",
       "3278  Cottage Grove Blackberry Pie Society   \n",
       "\n",
       "                            committee_name committee_subtype committee_type  \\\n",
       "0          Supporters of Katherine Schacht              None             CC   \n",
       "...                                    ...               ...            ...   \n",
       "3278  Cottage Grove Blackberry Pie Society     Miscellaneous            PAC   \n",
       "\n",
       "         ...     total_spent website  pos_amount  neg_amount  \n",
       "0        ...         1664.61    None     8104.57     -145.06  \n",
       "...      ...             ...     ...         ...         ...  \n",
       "3278     ...          171.80    None         NaN         NaN  \n",
       "\n",
       "[2384 rows x 19 columns]"
      ]
     },
     "execution_count": 62,
     "metadata": {},
     "output_type": "execute_result"
    }
   ],
   "source": [
    "qs_neg = CampaignDetail.objects.filter(workingtransactions__amount__lt=0)\n",
    "qs_neg = qs_neg.annotate(neg_amount=Sum('workingtransactions__amount'))\n",
    "df = df.join(pd.DataFrame.from_records(qs_neg.values('neg_amount').all())['neg_amount'])\n",
    "df"
   ]
  },
  {
   "cell_type": "markdown",
   "metadata": {},
   "source": [
    "# Directed graph of financial transactions\n",
    "Are the payee_committee_ids the same as \"filer_id\"?"
   ]
  },
  {
   "cell_type": "code",
   "execution_count": 63,
   "metadata": {
    "collapsed": false
   },
   "outputs": [
    {
     "data": {
      "text/plain": [
       "0.5310975609756098"
      ]
     },
     "execution_count": 63,
     "metadata": {},
     "output_type": "execute_result"
    }
   ],
   "source": [
    "filer_id = set(pd.DataFrame.from_records(WorkingTransactions.objects.values(\n",
    "               'filer_id').all()).dropna().values.T[0])\n",
    "payee_id = set(pd.DataFrame.from_records(WorkingTransactions.objects.values(\n",
    "               'contributor_payee_committee_id').all()).dropna().values.T[0])\n",
    "len(payee_id.intersection(filer_id)) * 1. / len(filer_id)"
   ]
  },
  {
   "cell_type": "markdown",
   "metadata": {},
   "source": [
    "# Good enough for Government Work\n",
    "53% of payee_ids were found in the filer_id of the same Table\n",
    "filer_id -> payee_id"
   ]
  },
  {
   "cell_type": "code",
   "execution_count": 66,
   "metadata": {
    "collapsed": false
   },
   "outputs": [
    {
     "data": {
      "text/plain": [
       "addr_line1                                       52 NE Freemont St\n",
       "addr_line2                                                    None\n",
       "amount                                                      320.95\n",
       "book_type                                      Political Committee\n",
       "city                                                      Portland\n",
       "contributor_payee                          Paul For County (14406)\n",
       "contributor_payee_class                                       None\n",
       "contributor_payee_committee_id                               14406\n",
       "direction                                                      out\n",
       "filed_date                                              2012-10-22\n",
       "filer                                      Charlie Hales for Mayor\n",
       "filer_id_id                                                  15089\n",
       "purp_desc                         error on check.  voided by bank.\n",
       "purpose_codes                                                 None\n",
       "state                                                           OR\n",
       "sub_type                          Miscellaneous Other Disbursement\n",
       "tran_date                                               2012-10-18\n",
       "tran_id                                                    1389818\n",
       "zip                                                          97212\n",
       "Name: 0, dtype: object"
      ]
     },
     "execution_count": 66,
     "metadata": {},
     "output_type": "execute_result"
    }
   ],
   "source": [
    "qs = WorkingTransactions.objects.filter(filer_id__isnull=False, \n",
    "                                        contributor_payee_committee_id__isnull=False,\n",
    "                                        amount__gt=0)\n",
    "df = pd.DataFrame.from_records(qs.values().all())\n",
    "_, trans = df.iterrows().next()\n",
    "pd.options.display.max_rows = 30\n",
    "trans"
   ]
  }
 ],
 "metadata": {
  "kernelspec": {
   "display_name": "Python 2",
   "language": "python",
   "name": "python2"
  },
  "language_info": {
   "codemirror_mode": {
    "name": "ipython",
    "version": 2
   },
   "file_extension": ".py",
   "mimetype": "text/x-python",
   "name": "python",
   "nbconvert_exporter": "python",
   "pygments_lexer": "ipython2",
   "version": "2.7.9"
  }
 },
 "nbformat": 4,
 "nbformat_minor": 0
}
