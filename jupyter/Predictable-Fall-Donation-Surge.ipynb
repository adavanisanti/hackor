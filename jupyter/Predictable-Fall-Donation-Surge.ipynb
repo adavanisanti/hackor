{
 "cells": [
  {
   "cell_type": "code",
   "execution_count": 7,
   "metadata": {
    "collapsed": false
   },
   "outputs": [],
   "source": [
    "import os\n",
    "import subprocess\n",
    "import pandas as pd\n",
    "from matplotlib import pyplot as plt\n",
    "plt.style.use('ggplot')\n",
    "%matplotlib inline\n",
    "import pylab\n",
    "pylab.rcParams['figure.figsize'] = (12.0, 6.0)"
   ]
  },
  {
   "cell_type": "markdown",
   "metadata": {},
   "source": [
    "## Unzip the transactions Data!"
   ]
  },
  {
   "cell_type": "code",
   "execution_count": 16,
   "metadata": {
    "collapsed": false
   },
   "outputs": [
    {
     "name": "stdout",
     "output_type": "stream",
     "text": [
      "\n",
      "0\n"
     ]
    }
   ],
   "source": [
    "filename = 'raw_committee_transactions.csv'\n",
    "filepath = os.path.join('..', 'data', filename)\n",
    "kwargs = {'stdin': subprocess.PIPE, 'stdout': subprocess.PIPE, 'stderr': subprocess.STDOUT, 'close_fds': True}\n",
    "if os.path.isfile(filepath + '.tar.gz'):\n",
    "    cmd = ['tar', '-xzf', filepath + '.tar.gz']\n",
    "else:\n",
    "    # TODO: use -c to retain the gz file: `gunzip -c filepath.gz >filepath.csv`\n",
    "    cmd = ['gunzip', 'filepath + '.gz']\n",
    "process = subprocess.Popen(cmd, **kwargs)\n",
    "output = process.stdout.read()\n",
    "retval = process.wait()\n",
    "if retval:\n",
    "    print(output)\n",
    "    print(retval)"
   ]
  },
  {
   "cell_type": "markdown",
   "metadata": {},
   "source": [
    "## Need to be memory efficient by specifying '`dtype`'s\n",
    "And need to limit it to 1M rows for 8GB laptop"
   ]
  },
  {
   "cell_type": "code",
   "execution_count": 58,
   "metadata": {
    "collapsed": false
   },
   "outputs": [
    {
     "name": "stdout",
     "output_type": "stream",
     "text": [
      "(0, 'tran_id', dtype('int64'), dtype('int64'))\n",
      "(1, 'original_id', dtype('int64'), dtype('int64'))\n",
      "(2, 'tran_date', dtype('O'), <class 'pandas.tslib.Timestamp'>)\n",
      "(3, 'tran_status', dtype('O'), dtype('O'))\n",
      "(4, 'filer', dtype('O'), dtype('O'))\n",
      "(5, 'contributor_payee', dtype('O'), dtype('O'))\n",
      "(6, 'sub_type', dtype('O'), dtype('O'))\n",
      "(7, 'amount', dtype('float64'), <type 'numpy.float64'>)\n",
      "(8, 'aggregate_amount', dtype('int64'), <type 'numpy.float64'>)\n",
      "(9, 'contributor_payee_committee_id', dtype('float64'), dtype('float64'))\n",
      "(10, 'filer_id', dtype('int64'), dtype('int64'))\n",
      "(11, 'attest_by_name', dtype('O'), <type 'object'>)\n",
      "(12, 'attest_date', dtype('O'), <class 'pandas.tslib.Timestamp'>)\n",
      "(13, 'review_by_name', dtype('O'), <type 'object'>)\n",
      "(14, 'review_date', dtype('O'), <class 'pandas.tslib.Timestamp'>)\n",
      "(15, 'due_date', dtype('O'), <class 'pandas.tslib.Timestamp'>)\n",
      "(16, 'occptn_ltr_date', dtype('float64'), <class 'pandas.tslib.Timestamp'>)\n",
      "(17, 'pymt_sched_txt', dtype('float64'), <type 'object'>)\n",
      "(18, 'purp_desc', dtype('float64'), <type 'object'>)\n",
      "(19, 'intrst_rate', dtype('float64'), <type 'object'>)\n",
      "(20, 'check_nbr', dtype('float64'), dtype('float64'))\n",
      "(21, 'tran_stsfd_ind', dtype('O'), dtype('O'))\n",
      "(22, 'filed_by_name', dtype('O'), <type 'object'>)\n",
      "(23, 'filed_date', dtype('O'), <class 'pandas.tslib.Timestamp'>)\n",
      "(24, 'addr_book_agent_name', dtype('float64'), <type 'object'>)\n",
      "(25, 'book_type', dtype('O'), dtype('O'))\n",
      "(26, 'title_txt', dtype('float64'), <type 'object'>)\n",
      "(27, 'occptn_txt', dtype('O'), <type 'object'>)\n",
      "(28, 'emp_name', dtype('float64'), <type 'object'>)\n",
      "(29, 'emp_city', dtype('float64'), <type 'object'>)\n",
      "(30, 'emp_state', dtype('float64'), <type 'object'>)\n",
      "(31, 'employ_ind', dtype('O'), dtype('O'))\n",
      "(32, 'self_employ_ind', dtype('O'), dtype('O'))\n",
      "(33, 'addr_line1', dtype('O'), <type 'object'>)\n",
      "(34, 'addr_line2', dtype('float64'), <type 'object'>)\n",
      "(35, 'city', dtype('O'), <type 'object'>)\n",
      "(36, 'state', dtype('O'), <type 'object'>)\n",
      "(37, 'zip', dtype('float64'), dtype('float64'))\n",
      "(38, 'zip_plus_four', dtype('float64'), dtype('float64'))\n",
      "(39, 'county', dtype('O'), dtype('O'))\n",
      "(40, 'purpose_codes', dtype('float64'), <type 'object'>)\n",
      "(41, 'exp_date', dtype('float64'), <class 'pandas.tslib.Timestamp'>)\n"
     ]
    }
   ],
   "source": [
    "trans = pd.read_csv(filepath, nrows=10000)\n",
    "dtype_orig = dict([(col, df[col].dtype) for col in df.columns])\n",
    "dtype = dict(dtype_orig)\n",
    "object_keywords = ('note', 'txt', 'text', 'title', 'percent', 'rate', 'comment', 'desc', 'name', 'city', 'state', 'addr', 'line', 'code')\n",
    "for i, col in enumerate(trans.columns):\n",
    "    if 'date' in col or 'time' in col:\n",
    "        dtype[col] = pd.Timestamp\n",
    "    elif any([k in col for k in object_keywords]):\n",
    "        dtype[col] = pd.np.object\n",
    "    elif 'amount' in col:\n",
    "        dtype[col] = pd.np.float64\n",
    "    print(i, col, dtype_orig[col], dtype[col])\n",
    "# \"_id\" is a string in some cases  ;)\n",
    "dtype['contributor_payee_committee_id'] = pd.np.object\n",
    "trans = pd.read_csv(filepath, dtype=dtype, nrows=1000000)"
   ]
  },
  {
   "cell_type": "code",
   "execution_count": 52,
   "metadata": {
    "collapsed": false
   },
   "outputs": [
    {
     "data": {
      "text/html": [
       "<div>\n",
       "<table border=\"1\" class=\"dataframe\">\n",
       "  <thead>\n",
       "    <tr style=\"text-align: right;\">\n",
       "      <th></th>\n",
       "      <th>tran_id</th>\n",
       "      <th>original_id</th>\n",
       "      <th>amount</th>\n",
       "      <th>filer_id</th>\n",
       "      <th>check_nbr</th>\n",
       "      <th>zip</th>\n",
       "      <th>zip_plus_four</th>\n",
       "    </tr>\n",
       "  </thead>\n",
       "  <tbody>\n",
       "    <tr>\n",
       "      <th>count</th>\n",
       "      <td>977337.00000</td>\n",
       "      <td>977337.000000</td>\n",
       "      <td>977337.000000</td>\n",
       "      <td>977337.000000</td>\n",
       "      <td>1.855590e+05</td>\n",
       "      <td>699206.000000</td>\n",
       "      <td>21794.000000</td>\n",
       "    </tr>\n",
       "    <tr>\n",
       "      <th>mean</th>\n",
       "      <td>1123370.30258</td>\n",
       "      <td>1122072.520231</td>\n",
       "      <td>1053.874716</td>\n",
       "      <td>7043.355388</td>\n",
       "      <td>5.687585e+06</td>\n",
       "      <td>94101.176712</td>\n",
       "      <td>4276.766358</td>\n",
       "    </tr>\n",
       "    <tr>\n",
       "      <th>std</th>\n",
       "      <td>554181.86289</td>\n",
       "      <td>554621.433813</td>\n",
       "      <td>13955.958487</td>\n",
       "      <td>6106.562246</td>\n",
       "      <td>7.675640e+08</td>\n",
       "      <td>14429.060711</td>\n",
       "      <td>3060.712691</td>\n",
       "    </tr>\n",
       "    <tr>\n",
       "      <th>min</th>\n",
       "      <td>41.00000</td>\n",
       "      <td>41.000000</td>\n",
       "      <td>-43771.050000</td>\n",
       "      <td>3.000000</td>\n",
       "      <td>0.000000e+00</td>\n",
       "      <td>0.000000</td>\n",
       "      <td>-159.000000</td>\n",
       "    </tr>\n",
       "    <tr>\n",
       "      <th>25%</th>\n",
       "      <td>711115.00000</td>\n",
       "      <td>709522.000000</td>\n",
       "      <td>30.000000</td>\n",
       "      <td>682.000000</td>\n",
       "      <td>1.056000e+03</td>\n",
       "      <td>97086.000000</td>\n",
       "      <td>1672.000000</td>\n",
       "    </tr>\n",
       "    <tr>\n",
       "      <th>50%</th>\n",
       "      <td>1149574.00000</td>\n",
       "      <td>1148785.000000</td>\n",
       "      <td>116.770000</td>\n",
       "      <td>4572.000000</td>\n",
       "      <td>1.481000e+03</td>\n",
       "      <td>97223.000000</td>\n",
       "      <td>3726.000000</td>\n",
       "    </tr>\n",
       "    <tr>\n",
       "      <th>75%</th>\n",
       "      <td>1585532.00000</td>\n",
       "      <td>1584488.000000</td>\n",
       "      <td>494.500000</td>\n",
       "      <td>13926.000000</td>\n",
       "      <td>2.745500e+03</td>\n",
       "      <td>97401.000000</td>\n",
       "      <td>6989.000000</td>\n",
       "    </tr>\n",
       "    <tr>\n",
       "      <th>max</th>\n",
       "      <td>2049796.00000</td>\n",
       "      <td>2049796.000000</td>\n",
       "      <td>4460000.000000</td>\n",
       "      <td>17462.000000</td>\n",
       "      <td>2.942193e+11</td>\n",
       "      <td>99999.000000</td>\n",
       "      <td>9998.000000</td>\n",
       "    </tr>\n",
       "  </tbody>\n",
       "</table>\n",
       "</div>"
      ],
      "text/plain": [
       "             tran_id     original_id          amount       filer_id  \\\n",
       "count   977337.00000   977337.000000   977337.000000  977337.000000   \n",
       "mean   1123370.30258  1122072.520231     1053.874716    7043.355388   \n",
       "std     554181.86289   554621.433813    13955.958487    6106.562246   \n",
       "min         41.00000       41.000000   -43771.050000       3.000000   \n",
       "25%     711115.00000   709522.000000       30.000000     682.000000   \n",
       "50%    1149574.00000  1148785.000000      116.770000    4572.000000   \n",
       "75%    1585532.00000  1584488.000000      494.500000   13926.000000   \n",
       "max    2049796.00000  2049796.000000  4460000.000000   17462.000000   \n",
       "\n",
       "          check_nbr            zip  zip_plus_four  \n",
       "count  1.855590e+05  699206.000000   21794.000000  \n",
       "mean   5.687585e+06   94101.176712    4276.766358  \n",
       "std    7.675640e+08   14429.060711    3060.712691  \n",
       "min    0.000000e+00       0.000000    -159.000000  \n",
       "25%    1.056000e+03   97086.000000    1672.000000  \n",
       "50%    1.481000e+03   97223.000000    3726.000000  \n",
       "75%    2.745500e+03   97401.000000    6989.000000  \n",
       "max    2.942193e+11   99999.000000    9998.000000  "
      ]
     },
     "execution_count": 52,
     "metadata": {},
     "output_type": "execute_result"
    }
   ],
   "source": [
    "len(trans)\n",
    "trans.describe()"
   ]
  },
  {
   "cell_type": "markdown",
   "metadata": {},
   "source": [
    "## Hack '`describe`' to find the numeric columns"
   ]
  },
  {
   "cell_type": "code",
   "execution_count": 74,
   "metadata": {
    "collapsed": false
   },
   "outputs": [
    {
     "data": {
      "text/html": [
       "<div>\n",
       "<table border=\"1\" class=\"dataframe\">\n",
       "  <thead>\n",
       "    <tr style=\"text-align: right;\">\n",
       "      <th></th>\n",
       "      <th>tran_id</th>\n",
       "      <th>original_id</th>\n",
       "      <th>amount</th>\n",
       "      <th>aggregate_amount</th>\n",
       "      <th>filer_id</th>\n",
       "      <th>check_nbr</th>\n",
       "      <th>zip</th>\n",
       "      <th>zip_plus_four</th>\n",
       "    </tr>\n",
       "    <tr>\n",
       "      <th>tran_date</th>\n",
       "      <th></th>\n",
       "      <th></th>\n",
       "      <th></th>\n",
       "      <th></th>\n",
       "      <th></th>\n",
       "      <th></th>\n",
       "      <th></th>\n",
       "      <th></th>\n",
       "    </tr>\n",
       "  </thead>\n",
       "  <tbody>\n",
       "    <tr>\n",
       "      <th>2012-10-10</th>\n",
       "      <td>1371005</td>\n",
       "      <td>1371005</td>\n",
       "      <td>19.48</td>\n",
       "      <td>133.38</td>\n",
       "      <td>4572</td>\n",
       "      <td>NaN</td>\n",
       "      <td>97215</td>\n",
       "      <td>NaN</td>\n",
       "    </tr>\n",
       "    <tr>\n",
       "      <th>2014-01-08</th>\n",
       "      <td>1644041</td>\n",
       "      <td>1644041</td>\n",
       "      <td>53.18</td>\n",
       "      <td>0.00</td>\n",
       "      <td>5885</td>\n",
       "      <td>NaN</td>\n",
       "      <td>NaN</td>\n",
       "      <td>NaN</td>\n",
       "    </tr>\n",
       "    <tr>\n",
       "      <th>2012-03-20</th>\n",
       "      <td>1197738</td>\n",
       "      <td>1197738</td>\n",
       "      <td>50.00</td>\n",
       "      <td>0.00</td>\n",
       "      <td>15224</td>\n",
       "      <td>NaN</td>\n",
       "      <td>NaN</td>\n",
       "      <td>NaN</td>\n",
       "    </tr>\n",
       "    <tr>\n",
       "      <th>2011-12-28</th>\n",
       "      <td>1153227</td>\n",
       "      <td>1153227</td>\n",
       "      <td>106.45</td>\n",
       "      <td>106.45</td>\n",
       "      <td>15101</td>\n",
       "      <td>NaN</td>\n",
       "      <td>97031</td>\n",
       "      <td>NaN</td>\n",
       "    </tr>\n",
       "    <tr>\n",
       "      <th>2014-04-18</th>\n",
       "      <td>1705051</td>\n",
       "      <td>1705051</td>\n",
       "      <td>88.53</td>\n",
       "      <td>267.49</td>\n",
       "      <td>16719</td>\n",
       "      <td>1007</td>\n",
       "      <td>97222</td>\n",
       "      <td>NaN</td>\n",
       "    </tr>\n",
       "    <tr>\n",
       "      <th>2012-02-10</th>\n",
       "      <td>1170431</td>\n",
       "      <td>1170431</td>\n",
       "      <td>500.00</td>\n",
       "      <td>500.00</td>\n",
       "      <td>11527</td>\n",
       "      <td>NaN</td>\n",
       "      <td>97219</td>\n",
       "      <td>NaN</td>\n",
       "    </tr>\n",
       "    <tr>\n",
       "      <th>2013-12-06</th>\n",
       "      <td>1602705</td>\n",
       "      <td>1602705</td>\n",
       "      <td>18.32</td>\n",
       "      <td>201.42</td>\n",
       "      <td>4572</td>\n",
       "      <td>NaN</td>\n",
       "      <td>97140</td>\n",
       "      <td>NaN</td>\n",
       "    </tr>\n",
       "    <tr>\n",
       "      <th>2008-08-12</th>\n",
       "      <td>370699</td>\n",
       "      <td>370699</td>\n",
       "      <td>150.00</td>\n",
       "      <td>150.00</td>\n",
       "      <td>12654</td>\n",
       "      <td>NaN</td>\n",
       "      <td>97470</td>\n",
       "      <td>NaN</td>\n",
       "    </tr>\n",
       "    <tr>\n",
       "      <th>2012-04-19</th>\n",
       "      <td>1226650</td>\n",
       "      <td>1226650</td>\n",
       "      <td>10.31</td>\n",
       "      <td>0.00</td>\n",
       "      <td>135</td>\n",
       "      <td>NaN</td>\n",
       "      <td>NaN</td>\n",
       "      <td>NaN</td>\n",
       "    </tr>\n",
       "    <tr>\n",
       "      <th>2014-11-13</th>\n",
       "      <td>1919295</td>\n",
       "      <td>1919295</td>\n",
       "      <td>104.86</td>\n",
       "      <td>0.00</td>\n",
       "      <td>17007</td>\n",
       "      <td>NaN</td>\n",
       "      <td>NaN</td>\n",
       "      <td>NaN</td>\n",
       "    </tr>\n",
       "  </tbody>\n",
       "</table>\n",
       "</div>"
      ],
      "text/plain": [
       "            tran_id  original_id  amount  aggregate_amount  filer_id  \\\n",
       "tran_date                                                              \n",
       "2012-10-10  1371005      1371005   19.48            133.38      4572   \n",
       "2014-01-08  1644041      1644041   53.18              0.00      5885   \n",
       "2012-03-20  1197738      1197738   50.00              0.00     15224   \n",
       "2011-12-28  1153227      1153227  106.45            106.45     15101   \n",
       "2014-04-18  1705051      1705051   88.53            267.49     16719   \n",
       "2012-02-10  1170431      1170431  500.00            500.00     11527   \n",
       "2013-12-06  1602705      1602705   18.32            201.42      4572   \n",
       "2008-08-12   370699       370699  150.00            150.00     12654   \n",
       "2012-04-19  1226650      1226650   10.31              0.00       135   \n",
       "2014-11-13  1919295      1919295  104.86              0.00     17007   \n",
       "\n",
       "            check_nbr    zip  zip_plus_four  \n",
       "tran_date                                    \n",
       "2012-10-10        NaN  97215            NaN  \n",
       "2014-01-08        NaN    NaN            NaN  \n",
       "2012-03-20        NaN    NaN            NaN  \n",
       "2011-12-28        NaN  97031            NaN  \n",
       "2014-04-18       1007  97222            NaN  \n",
       "2012-02-10        NaN  97219            NaN  \n",
       "2013-12-06        NaN  97140            NaN  \n",
       "2008-08-12        NaN  97470            NaN  \n",
       "2012-04-19        NaN    NaN            NaN  \n",
       "2014-11-13        NaN    NaN            NaN  "
      ]
     },
     "execution_count": 74,
     "metadata": {},
     "output_type": "execute_result"
    }
   ],
   "source": [
    "description = trans.describe()\n",
    "# going to plot these later so need a few\n",
    "trans = trans.set_index('tran_date') \n",
    "samples = trans[description.columns].sample(100000)\n",
    "samples[:10]"
   ]
  },
  {
   "cell_type": "markdown",
   "metadata": {},
   "source": [
    "## Surge in Donations During Elections (Halloween)\n",
    "\n",
    "**PACs don't have to report until 1 month after they receive a donation... **  \n",
    "**so big cozy donors know to wait until Oct to \"donate\"**"
   ]
  },
  {
   "cell_type": "code",
   "execution_count": 75,
   "metadata": {
    "collapsed": false
   },
   "outputs": [
    {
     "data": {
      "text/plain": [
       "<matplotlib.axes._subplots.AxesSubplot at 0x7f31abfb61d0>"
      ]
     },
     "execution_count": 75,
     "metadata": {},
     "output_type": "execute_result"
    },
    {
     "data": {
      "image/png": "[encoded data removed]",
      "text/plain": [
       "<matplotlib.figure.Figure at 0x7f31ad953d50>"
      ]
     },
     "metadata": {},
     "output_type": "display_data"
    }
   ],
   "source": [
    "samples = samples.sort_index()\n",
    "samples.describe()\n",
    "samples[['aggregate_amount', 'amount']].plot()"
   ]
  }
 ],
 "metadata": {
  "kernelspec": {
   "display_name": "Python 2",
   "language": "python",
   "name": "python2"
  },
  "language_info": {
   "codemirror_mode": {
    "name": "ipython",
    "version": 2
   },
   "file_extension": ".py",
   "mimetype": "text/x-python",
   "name": "python",
   "nbconvert_exporter": "python",
   "pygments_lexer": "ipython2",
   "version": "2.7.10"
  }
 },
 "nbformat": 4,
 "nbformat_minor": 0
}
