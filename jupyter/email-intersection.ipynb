{
 "cells": [
  {
   "cell_type": "code",
   "execution_count": 2,
   "metadata": {
    "collapsed": false
   },
   "outputs": [],
   "source": [
    "import pandas as pd\n",
    "import csv\n",
    "import os\n",
    "import re\n",
    "home = os.getenv('HOME')\n",
    "downloads = os.path.join(home, 'Downloads', 'dmps')\n",
    "mem_MB = 2000\n",
    "top_tlds = {        # top 20 in Google searches per day\n",
    "    '.com': ('Commercial', 4860000000),\n",
    "    '.org': ('Noncomercial', 1950000000),\n",
    "    '.edu': ('US accredited postsecondary institutions', 1550000000),\n",
    "    '.gov': ('United States Government', 1060000000),\n",
    "    '.uk':  ('United Kingdom', 473000000),\n",
    "    '.net': ('Network services', 206000000),\n",
    "    '.ca': ('Canada', 165000000),\n",
    "    '.de': ('Germany', 145000000),\n",
    "    '.jp': ('Japan', 139000000),\n",
    "    '.fr': ('France', 96700000),\n",
    "    '.au': ('Australia', 91000000),\n",
    "    '.us': ('United States', 68300000),\n",
    "    '.ru': ('Russian Federation', 67900000),\n",
    "    '.ch': ('Switzerland', 62100000),\n",
    "    '.it': ('Italy', 55200000),\n",
    "    '.nl': ('Netherlands', 45700000),\n",
    "    '.se': ('Sweden', 39000000),\n",
    "    '.no': ('Norway', 32300000),\n",
    "    '.es': ('Spain', 31000000),\n",
    "    '.mil': ('US Military', 28400000)\n",
    "    }"
   ]
  },
  {
   "cell_type": "markdown",
   "metadata": {},
   "source": [
    "# Be careful loading 1 GB  CSV with Pandas\n",
    "Use python csv row iterator to extract a single column   \n",
    "Lot's of room to improve the efficiency but this works... just barely  "
   ]
  },
  {
   "cell_type": "code",
   "execution_count": null,
   "metadata": {
    "collapsed": true
   },
   "outputs": [],
   "source": [
    "def extract_emails(top_tlds=top_tlds, colnum=1,\n",
    "                   dest=os.path.join(downloads, extracted_emails)):\n",
    "    tlds = set(top_tlds)\n",
    "    email_regex = re.compile('[a-zA-Z0-9-.!#$%&*+-/=?^_`{|}~]+@[a-zA-Z0-9-.]+(' + '|'.join(tlds) + ')')\n",
    "    emails = ''\n",
    "    with open(os.path.join(downloads, 'aminno_member_email.csv')) as f:\n",
    "        reader = csv.reader(f)\n",
    "        for i, row in enumerate(reader):\n",
    "            em = email_regex.search(row[colnum])\n",
    "            if em:\n",
    "                emails += em.group().replace(',', '\\n') + '\\n'\n",
    "            if len(emails) > mem_MB * 1000000:\n",
    "                break\n",
    "            if not (i % 100000):\n",
    "                print(\"{}M emails read\".format(i / 1000000.))\n",
    "    # should just stream them to the outfile simultaneously\n",
    "    with open(dest, 'w') as f:\n",
    "        f.write(emails)\n",
    "    # or at least just return them as a sequence/list/array\n",
    "    # return pd.Series(emails.split('\\n'))\n",
    "\n",
    "extract_emails()"
   ]
  },
  {
   "cell_type": "markdown",
   "metadata": {},
   "source": [
    "# Pandas struggles to load & index 30M emails?"
   ]
  },
  {
   "cell_type": "code",
   "execution_count": null,
   "metadata": {
    "collapsed": true
   },
   "outputs": [],
   "source": [
    "emails = pd.DataFrame.from_csv(extracted_emails).index\n",
    "# $ free -h\n",
    "#              total       used       free     shared    buffers     cached\n",
    "# Mem:          7.7G       6.4G       1.3G       139M       108M       2.6G\n",
    "# -/+ buffers/cache:       3.6G       4.1G\n",
    "# Swap:           0B         0B         0B\n",
    "# (hackor)hobs@hplap:~/src/totalgood/webapps/hackor$  master\n",
    "# $ free -h\n",
    "#              total       used       free     shared    buffers     cached\n",
    "# Mem:          7.7G       6.5G       1.2G       139M       108M       2.6G\n",
    "# -/+ buffers/cache:       3.7G       4.0G\n",
    "# Swap:           0B         0B         0B\n",
    "# (hackor)hobs@hplap:~/src/totalgood/webapps/hackor$  master\n",
    "# $ free -h\n",
    "#              total       used       free     shared    buffers     cached\n",
    "# Mem:          7.7G       7.5G       171M       132M       107M       1.8G\n",
    "# -/+ buffers/cache:       5.6G       2.1G\n",
    "# Swap:           0B         0B         0B\n",
    "# (hackor)hobs@hplap:~/src/totalgood/webapps/hackor$  master\n",
    "# $ free -h\n",
    "#              total       used       free     shared    buffers     cached\n",
    "# Mem:          7.7G       6.8G       937M       134M       107M       1.8G\n",
    "# -/+ buffers/cache:       4.9G       2.8G\n",
    "# Swap:           0B         0B         0B\n",
    "# (hackor)hobs@hplap:~/src/totalgood/webapps/hackor$  master\n",
    "# $ free -h\n",
    "#              total       used       free     shared    buffers     cached\n",
    "# Mem:          7.7G       5.1G       2.6G       134M       115M       1.9G\n",
    "# -/+ buffers/cache:       3.1G       4.6G\n",
    "# Swap:           0B         0B         0B"
   ]
  },
  {
   "cell_type": "markdown",
   "metadata": {},
   "source": [
    "# Who's been naughty or nice?"
   ]
  },
  {
   "cell_type": "code",
   "execution_count": null,
   "metadata": {
    "collapsed": true
   },
   "outputs": [],
   "source": [
    "naughty, nice = [], []\n",
    "candidates = pd.DataFrame.from_csv(\n",
    "    os.path.join('..', 'data', 'public.raw_candidate_filings.csv'))\n",
    "candidates = set(candidates['email'].unique())\n",
    "for i, em in enumerate(candidates):\n",
    "    if str(em).lower().strip() in emails:\n",
    "        naughty += [em]\n",
    "        print('{}'.format(em[-10:]))\n",
    "    else:\n",
    "        nice += [em]\n",
    "# @yahoo.com\n",
    "# @yahoo.com\n",
    "# @gmail.com\n",
    "# ue@msn.com\n",
    "# eurlaw.com\n",
    "# etmail.com\n",
    "# m1@msn.com\n",
    "# @gmail.com\n",
    "\n",
    "# print(nice)"
   ]
  }
 ],
 "metadata": {
  "kernelspec": {
   "display_name": "Python 2",
   "language": "python",
   "name": "python2"
  },
  "language_info": {
   "codemirror_mode": {
    "name": "ipython",
    "version": 2
   },
   "file_extension": ".py",
   "mimetype": "text/x-python",
   "name": "python",
   "nbconvert_exporter": "python",
   "pygments_lexer": "ipython2",
   "version": "2.7.9"
  }
 },
 "nbformat": 4,
 "nbformat_minor": 0
}
