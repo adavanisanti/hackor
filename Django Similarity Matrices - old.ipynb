{
 "cells": [
  {
   "cell_type": "code",
   "execution_count": null,
   "metadata": {
    "collapsed": false
   },
   "outputs": [],
   "source": [
    "import re\n",
    "import pandas as pd\n",
    "pd.options.display.max_columns = 9\n",
    "pd.options.display.max_rows = 3\n",
    "np = pd.np\n",
    "np.norm = np.linalg.norm\n",
    "from datetime import datetime, date\n",
    "import json\n",
    "from matplotlib import pyplot as plt\n",
    "%matplotlib inline\n",
    "plt.style.use('ggplot')\n",
    "from sklearn.feature_extraction.text import TfidfVectorizer  # equivalent to TFIDFTransformer(CountVectorizer())\n",
    "from django.db.models import Sum\n",
    "from pacs.models import CampaignDetail, WorkingTransactions\n",
    "import django\n",
    "django.setup()\n",
    "CampaignDetail.objects.count(), WorkingTransactions.objects.count()"
   ]
  },
  {
   "cell_type": "markdown",
   "metadata": {},
   "source": [
    "# Django\n",
    "This is how you join CampaignDetail & WorkingTransactions  \n",
    "and aggregate the WorkingTransactions.amount"
   ]
  },
  {
   "cell_type": "code",
   "execution_count": null,
   "metadata": {
    "collapsed": false
   },
   "outputs": [],
   "source": [
    "qs = CampaignDetail.objects.annotate(net_amount=Sum('workingtransactions__amount')).values().all()\n",
    "print('Net transactions: {:,}M'.format(round(sum(qs.values_list('net_amount', flat=True)) / 1e6)))"
   ]
  },
  {
   "cell_type": "markdown",
   "metadata": {},
   "source": [
    "Convert a Django Queryset into a Pandas DataFrame"
   ]
  },
  {
   "cell_type": "code",
   "execution_count": null,
   "metadata": {
    "collapsed": false
   },
   "outputs": [],
   "source": [
    "df = pd.DataFrame.from_records(qs)\n",
    "df.columns"
   ]
  },
  {
   "cell_type": "code",
   "execution_count": null,
   "metadata": {
    "collapsed": false
   },
   "outputs": [],
   "source": [
    "df = df[df.committee_name.astype(bool)].copy()\n",
    "df"
   ]
  },
  {
   "cell_type": "markdown",
   "metadata": {},
   "source": [
    "# Pandas DataFrame.join\n",
    "What if you only want positive transactions?"
   ]
  },
  {
   "cell_type": "code",
   "execution_count": null,
   "metadata": {
    "collapsed": false
   },
   "outputs": [],
   "source": [
    "qs_pos = CampaignDetail.objects.filter(committee_name__isnull=False, workingtransactions__amount__gt=0)\n",
    "qs_pos = qs_pos.annotate(pos_amount=Sum('workingtransactions__amount'))\n",
    "df_pos = df.join(pd.DataFrame.from_records(qs_pos.values('pos_amount').all())['pos_amount'])\n",
    "df_pos"
   ]
  },
  {
   "cell_type": "markdown",
   "metadata": {},
   "source": [
    "### What if I just insert a new column with the values?"
   ]
  },
  {
   "cell_type": "code",
   "execution_count": null,
   "metadata": {
    "collapsed": false
   },
   "outputs": [],
   "source": [
    "df = pd.DataFrame.from_records(qs)\n",
    "df = pd.DataFrame(df[df.committee_name.astype(bool)])\n",
    "df['pos_amount'] = pd.DataFrame.from_records(qs_pos.values('pos_amount').all())['pos_amount']\n",
    "df"
   ]
  },
  {
   "cell_type": "markdown",
   "metadata": {},
   "source": [
    "# Pandas indices are tricky\n",
    "Did all the rows get inserted in the right place (are the indices still alligned)\n"
   ]
  },
  {
   "cell_type": "code",
   "execution_count": null,
   "metadata": {
    "collapsed": false
   },
   "outputs": [],
   "source": [
    "df == df_pos"
   ]
  },
  {
   "cell_type": "code",
   "execution_count": null,
   "metadata": {
    "collapsed": false
   },
   "outputs": [],
   "source": [
    "pd.options.display.max_rows = 6\n",
    "(df == df_pos).mean()"
   ]
  },
  {
   "cell_type": "markdown",
   "metadata": {},
   "source": [
    "# A NaN is not equal to a NaN!\n",
    "Any operation involving a NaN returns a NaN  \n",
    "And NaN (like None) always evaluates to False  "
   ]
  },
  {
   "cell_type": "code",
   "execution_count": null,
   "metadata": {
    "collapsed": false
   },
   "outputs": [],
   "source": [
    "(df == df_pos).mean() + df.isnull().mean()"
   ]
  },
  {
   "cell_type": "markdown",
   "metadata": {},
   "source": [
    "# Negative transaction amounts?"
   ]
  },
  {
   "cell_type": "code",
   "execution_count": null,
   "metadata": {
    "collapsed": false
   },
   "outputs": [],
   "source": [
    "qs_neg = CampaignDetail.objects.filter(workingtransactions__amount__lt=0)\n",
    "qs_neg = qs_neg.annotate(neg_amount=Sum('workingtransactions__amount'))\n",
    "df = df.join(pd.DataFrame.from_records(qs_neg.values('neg_amount').all())['neg_amount'])\n",
    "df"
   ]
  },
  {
   "cell_type": "code",
   "execution_count": null,
   "metadata": {
    "collapsed": false
   },
   "outputs": [],
   "source": [
    "print('Positve transactions: {:,} M'.format(round(sum(qs_pos.values_list('pos_amount', flat=True)) / 1e6)))"
   ]
  },
  {
   "cell_type": "code",
   "execution_count": null,
   "metadata": {
    "collapsed": false
   },
   "outputs": [],
   "source": [
    "print('Negative transactions: {:,} M'.format(round(sum(qs_neg.values_list('neg_amount', flat=True)) / 1.e6, 2)))"
   ]
  },
  {
   "cell_type": "code",
   "execution_count": null,
   "metadata": {
    "collapsed": false
   },
   "outputs": [],
   "source": [
    "print('Net net transactions: {:,} M'.format(round(sum(qs.values_list('net_amount', flat=True)) / 1.e6)))"
   ]
  },
  {
   "cell_type": "markdown",
   "metadata": {},
   "source": [
    "## Something's fishy in Denmark ^"
   ]
  },
  {
   "cell_type": "code",
   "execution_count": null,
   "metadata": {
    "collapsed": false
   },
   "outputs": [],
   "source": [
    "df.sum()"
   ]
  },
  {
   "cell_type": "code",
   "execution_count": null,
   "metadata": {
    "collapsed": false
   },
   "outputs": [],
   "source": [
    "print('Net amount: ${:} M'.format(round(df.sum()[['pos_amount', 'neg_amount']].sum()/1e6)))"
   ]
  },
  {
   "cell_type": "code",
   "execution_count": null,
   "metadata": {
    "collapsed": false
   },
   "outputs": [],
   "source": [
    "print('Volume: ${:} M'.format(round(np.abs(df.sum()[['pos_amount', 'neg_amount']]).sum()/1e6)))"
   ]
  },
  {
   "cell_type": "markdown",
   "metadata": {},
   "source": [
    "# Directed graph of financial transactions\n",
    "Are the payee_committee_ids the same as \"filer_id\"?"
   ]
  },
  {
   "cell_type": "code",
   "execution_count": null,
   "metadata": {
    "collapsed": false
   },
   "outputs": [],
   "source": [
    "filer_id = set(pd.DataFrame.from_records(WorkingTransactions.objects.values(\n",
    "               'filer_id').all()).dropna().values.T[0])\n",
    "payee_id = set(pd.DataFrame.from_records(WorkingTransactions.objects.values(\n",
    "               'contributor_payee_committee_id').all()).dropna().values.T[0])\n",
    "com_id = set()\n",
    "len(payee_id.intersection(filer_id)) * 1. / len(filer_id)"
   ]
  },
  {
   "cell_type": "markdown",
   "metadata": {},
   "source": [
    "# Good enough for Government Work\n",
    "53% of payee_ids were found in the filer_id of the same Table\n",
    "filer_id -> payee_id"
   ]
  },
  {
   "cell_type": "code",
   "execution_count": null,
   "metadata": {
    "collapsed": false
   },
   "outputs": [],
   "source": [
    "qs = WorkingTransactions.objects.filter(filer_id__isnull=False, \n",
    "                                        contributor_payee_committee_id__isnull=False,\n",
    "                                        amount__gt=0)\n",
    "df_trans = pd.DataFrame.from_records(qs.values().all())\n",
    "_, trans = df_trans.iterrows().next()\n",
    "print(trans)\n",
    "print(trans.index.values)"
   ]
  },
  {
   "cell_type": "markdown",
   "metadata": {},
   "source": [
    "# Lets compute a similarity matrix from positive transactions"
   ]
  },
  {
   "cell_type": "code",
   "execution_count": null,
   "metadata": {
    "collapsed": false
   },
   "outputs": [],
   "source": [
    "ids = [int(i) for i in payee_id.intersection(filer_id)]\n",
    "id_set = set(ids)\n",
    "id_str = [str(int(i)) for i in ids]\n",
    "N = len(ids)\n",
    "cov = pd.DataFrame(np.zeros((N, N)), index=id_str, columns=id_str)\n",
    "print(cov)\n",
    "for rownum, trans in df_trans.iterrows():\n",
    "    fid = trans['filer_id_id']\n",
    "    # print(trans.index.values)\n",
    "    cid = trans['contributor_payee_committee_id']\n",
    "    if fid in id_set and cid in id_set:\n",
    "        print(cov[str(fid)][str(cid)])\n",
    "        cov[str(fid)][str(cid)] += trans['amount']\n",
    "cov\n",
    "    "
   ]
  }
 ],
 "metadata": {
  "kernelspec": {
   "display_name": "Python 2",
   "language": "python",
   "name": "python2"
  },
  "language_info": {
   "codemirror_mode": {
    "name": "ipython",
    "version": 2
   },
   "file_extension": ".py",
   "mimetype": "text/x-python",
   "name": "python",
   "nbconvert_exporter": "python",
   "pygments_lexer": "ipython2",
   "version": "2.7.9"
  }
 },
 "nbformat": 4,
 "nbformat_minor": 0
}
