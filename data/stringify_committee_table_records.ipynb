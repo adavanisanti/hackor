{
 "cells": [
  {
   "cell_type": "code",
   "execution_count": 1,
   "metadata": {
    "collapsed": false
   },
   "outputs": [
    {
     "ename": "NameError",
     "evalue": "name 'names' is not defined",
     "output_type": "error",
     "traceback": [
      "\u001b[1;31m---------------------------------------------------------------------------\u001b[0m",
      "\u001b[1;31mNameError\u001b[0m                                 Traceback (most recent call last)",
      "\u001b[1;32m<ipython-input-1-d923987469f9>\u001b[0m in \u001b[0;36m<module>\u001b[1;34m()\u001b[0m\n\u001b[0;32m      1\u001b[0m \u001b[1;33m\u001b[0m\u001b[0m\n\u001b[1;32m----> 2\u001b[1;33m names = (names if isinstance(names, (list, np.ndarray))\n\u001b[0m\u001b[0;32m      3\u001b[0m                       else RawCommittees.objects.values_list('committee_name', flat=True))\n\u001b[0;32m      4\u001b[0m \u001b[1;33m\u001b[0m\u001b[0m\n\u001b[0;32m      5\u001b[0m \u001b[0mself\u001b[0m\u001b[1;33m.\u001b[0m\u001b[0mpac_type_tuples\u001b[0m \u001b[1;33m=\u001b[0m \u001b[0mRawCommittees\u001b[0m\u001b[1;33m.\u001b[0m\u001b[0mobjects\u001b[0m\u001b[1;33m.\u001b[0m\u001b[0mvalues_list\u001b[0m\u001b[1;33m(\u001b[0m\u001b[1;34m'committee_type'\u001b[0m\u001b[1;33m,\u001b[0m \u001b[1;34m'committee_subtype'\u001b[0m\u001b[1;33m)\u001b[0m\u001b[1;33m\u001b[0m\u001b[0m\n",
      "\u001b[1;31mNameError\u001b[0m: name 'names' is not defined"
     ]
    }
   ],
   "source": [
    "\n",
    "stringify(table, ):\n",
    "    names = table.objects.values(table, field)\n",
    "    names = (names if isinstance(names, (list, np.ndarray))\n",
    "             else RawCommittees.objects.values_list(names, flat=True))\n",
    "\n",
    "#     self.pac_type_tuples = RawCommittees.objects.values_list('committee_type', 'committee_subtype')\n",
    "#     self.labels = np.array(list(labels or self.pac_type_tuples))\n",
    "#     # self.labels = [', '.join(str(s) for s in pt) for pt in self.pac_type_tuples]\n",
    "#     self.labels = np.array([str(lbl) for lbl in self.labels])\n",
    "#     self.label_set = sorted(np.unique(self.labels))\n",
    "#     self.label_dict = dict(list(zip(self.label_set, range(len(self.label_set)))))\n",
    "#     self.label_ints = np.array([self.label_dict[label] for label in self.labels])\n",
    "#     if self.verbosity > 1:\n",
    "#         print(pd.Series(self.labels))\n",
    "#     if self.verbosity > 0:\n",
    "#         print(np.unique(self.labels))\n",
    "\n",
    "#     self.tfidf = TfidfVectorizer(analyzer='word', ngram_range=(1, 1), stop_words='english')\n",
    "#     self.tfidf_matrix = self.tfidf.fit_transform(self.names)\n",
    "#     if verbosity > 1:\n",
    "#         print(self.tfidf.get_feature_names())\n",
    "#     self.train_tfidf, self.test_tfidf, self.train_labels, self.test_labels = train_test_split(\n",
    "#         self.tfidf_matrix, self.label_ints, test_size=.25)\n",
    "#     # alpha: learning rate (default 1e-4, but other TFIDF classifier examples use 1e-5 to 1e-6)\n",
    "#     # penalty: 'none', 'l2', 'l1', or 'elasticnet'  # regularization penalty on the feature weights\n",
    "#     self.svm_matrix = self.fit(self.train_tfidf, self.train_labels)\n",
    "#     if verbosity > 0:\n",
    "#         print(self.score(self.train_tfidf, self.train_labels))"
   ]
  }
 ],
 "metadata": {
  "kernelspec": {
   "display_name": "Python 2",
   "language": "python",
   "name": "python2"
  },
  "language_info": {
   "codemirror_mode": {
    "name": "ipython",
    "version": 2
   },
   "file_extension": ".py",
   "mimetype": "text/x-python",
   "name": "python",
   "nbconvert_exporter": "python",
   "pygments_lexer": "ipython2",
   "version": "2.7.9"
  }
 },
 "nbformat": 4,
 "nbformat_minor": 0
}
