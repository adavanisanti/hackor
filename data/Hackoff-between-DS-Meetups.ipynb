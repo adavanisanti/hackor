{
 "cells": [
  {
   "cell_type": "code",
   "execution_count": 2,
   "metadata": {
    "collapsed": true
   },
   "outputs": [],
   "source": [
    "import matplotlib\n",
    "%matplotlib inline\n",
    "np = pd.np\n",
    "np.norm = np.linalg.norm\n",
    "import sklearn\n",
    "from sklearn.feature_extraction.text import CountVectorizer\n",
    "from sklearn.feature_extraction.text import TfidfTransformer, TfidfVectorizer\n",
    "from sklearn.linear_model import SGDClassifier\n",
    "from sklearn.grid_search import GridSearchCV\n",
    "from sklearn.pipeline import Pipeline\n",
    "from sklearn.cross_validation import train_test_split\n"
   ]
  },
  {
   "cell_type": "markdown",
   "metadata": {},
   "source": [
    "# Pandas as a Database\n",
    "Rather than installing postrgres and Django and configuring all that\n",
    "You can just use a Pandas collection of DataFrame tables as your database"
   ]
  },
  {
   "cell_type": "code",
   "execution_count": 40,
   "metadata": {
    "collapsed": false
   },
   "outputs": [
    {
     "name": "stdout",
     "output_type": "stream",
     "text": [
      "[]\n",
      "[]\n",
      "[]\n",
      "[]\n"
     ]
    }
   ],
   "source": [
    "import pandas as pd\n",
    "import re\n",
    "regex = re.compile(r'[\\b_^][Ii][Dd][\\b_$]')\n",
    "pacs = pd.DataFrame.from_csv('public.raw_committees.csv')  # no ID that I can find\n",
    "pac_id_cols = [col for col in pacs.columns if regex.search(col)]\n",
    "print(pac_id_cols)\n",
    "pacs_scraped = pd.DataFrame.from_csv('public.raw_committees_scraped.csv')  # id\n",
    "pac_scraped_id_cols = [col for col in pacs_scraped.columns if regex.search(col)]\n",
    "print(pac_scraped_id_cols)\n",
    "candidates = pd.DataFrame.from_csv('public.raw_candidate_filings.csv')  # id_nmbr\n",
    "candidate_id_cols = [col for col in candidates.columns if regex.search(col)]\n",
    "print(candidate_id_cols)\n",
    "trans = pd.DataFrame.from_csv('public.raw_committee_transactions_ammended_transactions.csv')\n",
    "trans_id_cols = [col for col in trans.columns if regex.search(col)]\n",
    "print(trans_id_cols)\n"
   ]
  },
  {
   "cell_type": "markdown",
   "metadata": {},
   "source": [
    "# Original_ID?\n",
    "\n",
    "So it looks like there are multiple revisions for many of the \"unique\" original_id. So to consolidate those revisions into unqiue records with unique IDs (take the most recent revision as the official record):"
   ]
  },
  {
   "cell_type": "code",
   "execution_count": 12,
   "metadata": {
    "collapsed": false
   },
   "outputs": [
    {
     "data": {
      "text/html": [
       "<div>\n",
       "<table border=\"1\" class=\"dataframe\">\n",
       "  <thead>\n",
       "    <tr style=\"text-align: right;\">\n",
       "      <th></th>\n",
       "      <th>original_id</th>\n",
       "      <th>amount</th>\n",
       "      <th>aggregate_amount</th>\n",
       "      <th>contributor_payee_committee_id</th>\n",
       "      <th>filer_id</th>\n",
       "      <th>intrst_rate</th>\n",
       "      <th>check_nbr</th>\n",
       "      <th>addr_book_agent_name</th>\n",
       "      <th>zip</th>\n",
       "      <th>zip_plus_four</th>\n",
       "      <th>exp_date</th>\n",
       "    </tr>\n",
       "  </thead>\n",
       "  <tbody>\n",
       "    <tr>\n",
       "      <th>count</th>\n",
       "      <td>2997.000000</td>\n",
       "      <td>2997.000000</td>\n",
       "      <td>2997.000000</td>\n",
       "      <td>160.000000</td>\n",
       "      <td>2997.000000</td>\n",
       "      <td>9</td>\n",
       "      <td>5.080000e+02</td>\n",
       "      <td>0</td>\n",
       "      <td>2355.000000</td>\n",
       "      <td>150.000000</td>\n",
       "      <td>0</td>\n",
       "    </tr>\n",
       "    <tr>\n",
       "      <th>mean</th>\n",
       "      <td>1885216.702369</td>\n",
       "      <td>1530.411655</td>\n",
       "      <td>4623.306210</td>\n",
       "      <td>7128.418750</td>\n",
       "      <td>9703.807808</td>\n",
       "      <td>0</td>\n",
       "      <td>5.985057e+06</td>\n",
       "      <td>NaN</td>\n",
       "      <td>90213.352017</td>\n",
       "      <td>5940.713333</td>\n",
       "      <td>NaN</td>\n",
       "    </tr>\n",
       "    <tr>\n",
       "      <th>std</th>\n",
       "      <td>211274.747411</td>\n",
       "      <td>10621.464988</td>\n",
       "      <td>30598.010565</td>\n",
       "      <td>6719.423466</td>\n",
       "      <td>6866.094987</td>\n",
       "      <td>0</td>\n",
       "      <td>1.331107e+08</td>\n",
       "      <td>NaN</td>\n",
       "      <td>21051.288729</td>\n",
       "      <td>2989.624421</td>\n",
       "      <td>NaN</td>\n",
       "    </tr>\n",
       "    <tr>\n",
       "      <th>min</th>\n",
       "      <td>71433.000000</td>\n",
       "      <td>-597.630000</td>\n",
       "      <td>0.000000</td>\n",
       "      <td>3.000000</td>\n",
       "      <td>10.000000</td>\n",
       "      <td>0</td>\n",
       "      <td>0.000000e+00</td>\n",
       "      <td>NaN</td>\n",
       "      <td>2117.000000</td>\n",
       "      <td>1.000000</td>\n",
       "      <td>NaN</td>\n",
       "    </tr>\n",
       "    <tr>\n",
       "      <th>25%</th>\n",
       "      <td>1864267.000000</td>\n",
       "      <td>35.000000</td>\n",
       "      <td>118.000000</td>\n",
       "      <td>629.000000</td>\n",
       "      <td>2480.000000</td>\n",
       "      <td>0</td>\n",
       "      <td>1.012750e+03</td>\n",
       "      <td>NaN</td>\n",
       "      <td>97038.000000</td>\n",
       "      <td>3498.000000</td>\n",
       "      <td>NaN</td>\n",
       "    </tr>\n",
       "    <tr>\n",
       "      <th>50%</th>\n",
       "      <td>1929490.000000</td>\n",
       "      <td>150.000000</td>\n",
       "      <td>250.000000</td>\n",
       "      <td>4749.000000</td>\n",
       "      <td>11508.000000</td>\n",
       "      <td>0</td>\n",
       "      <td>1.167500e+03</td>\n",
       "      <td>NaN</td>\n",
       "      <td>97219.000000</td>\n",
       "      <td>6628.000000</td>\n",
       "      <td>NaN</td>\n",
       "    </tr>\n",
       "    <tr>\n",
       "      <th>75%</th>\n",
       "      <td>1979015.000000</td>\n",
       "      <td>500.000000</td>\n",
       "      <td>977.650000</td>\n",
       "      <td>14931.000000</td>\n",
       "      <td>17001.000000</td>\n",
       "      <td>0</td>\n",
       "      <td>1.979250e+03</td>\n",
       "      <td>NaN</td>\n",
       "      <td>97401.000000</td>\n",
       "      <td>8652.000000</td>\n",
       "      <td>NaN</td>\n",
       "    </tr>\n",
       "    <tr>\n",
       "      <th>max</th>\n",
       "      <td>2049455.000000</td>\n",
       "      <td>452550.000000</td>\n",
       "      <td>543057.000000</td>\n",
       "      <td>17370.000000</td>\n",
       "      <td>17454.000000</td>\n",
       "      <td>0</td>\n",
       "      <td>3.000184e+09</td>\n",
       "      <td>NaN</td>\n",
       "      <td>99362.000000</td>\n",
       "      <td>9998.000000</td>\n",
       "      <td>NaN</td>\n",
       "    </tr>\n",
       "  </tbody>\n",
       "</table>\n",
       "</div>"
      ],
      "text/plain": [
       "          original_id         amount  aggregate_amount  \\\n",
       "count     2997.000000    2997.000000       2997.000000   \n",
       "mean   1885216.702369    1530.411655       4623.306210   \n",
       "std     211274.747411   10621.464988      30598.010565   \n",
       "min      71433.000000    -597.630000          0.000000   \n",
       "25%    1864267.000000      35.000000        118.000000   \n",
       "50%    1929490.000000     150.000000        250.000000   \n",
       "75%    1979015.000000     500.000000        977.650000   \n",
       "max    2049455.000000  452550.000000     543057.000000   \n",
       "\n",
       "       contributor_payee_committee_id      filer_id  intrst_rate  \\\n",
       "count                      160.000000   2997.000000            9   \n",
       "mean                      7128.418750   9703.807808            0   \n",
       "std                       6719.423466   6866.094987            0   \n",
       "min                          3.000000     10.000000            0   \n",
       "25%                        629.000000   2480.000000            0   \n",
       "50%                       4749.000000  11508.000000            0   \n",
       "75%                      14931.000000  17001.000000            0   \n",
       "max                      17370.000000  17454.000000            0   \n",
       "\n",
       "          check_nbr  addr_book_agent_name           zip  zip_plus_four  \\\n",
       "count  5.080000e+02                     0   2355.000000     150.000000   \n",
       "mean   5.985057e+06                   NaN  90213.352017    5940.713333   \n",
       "std    1.331107e+08                   NaN  21051.288729    2989.624421   \n",
       "min    0.000000e+00                   NaN   2117.000000       1.000000   \n",
       "25%    1.012750e+03                   NaN  97038.000000    3498.000000   \n",
       "50%    1.167500e+03                   NaN  97219.000000    6628.000000   \n",
       "75%    1.979250e+03                   NaN  97401.000000    8652.000000   \n",
       "max    3.000184e+09                   NaN  99362.000000    9998.000000   \n",
       "\n",
       "       exp_date  \n",
       "count         0  \n",
       "mean        NaN  \n",
       "std         NaN  \n",
       "min         NaN  \n",
       "25%         NaN  \n",
       "50%         NaN  \n",
       "75%         NaN  \n",
       "max         NaN  "
      ]
     },
     "execution_count": 12,
     "metadata": {},
     "output_type": "execute_result"
    }
   ],
   "source": [
    "trans = pd.DataFrame.from_csv('public.raw_committee_transactions_ammended_transactions.csv')\n",
    "trans.describe()"
   ]
  },
  {
   "cell_type": "code",
   "execution_count": 14,
   "metadata": {
    "collapsed": false
   },
   "outputs": [
    {
     "name": "stdout",
     "output_type": "stream",
     "text": [
      "1.11\n",
      "          original_id         amount  aggregate_amount  \\\n",
      "count     2700.000000    2700.000000       2700.000000   \n",
      "mean   1884926.093333    1398.428496       4339.031659   \n",
      "std     222078.767780   10643.772144      31247.914447   \n",
      "min      71433.000000    -597.630000          0.000000   \n",
      "25%    1864223.750000      35.000000        108.290000   \n",
      "50%    1942541.000000     125.000000        238.805000   \n",
      "75%    1979260.500000     500.000000        767.900000   \n",
      "max    2049455.000000  452550.000000     543057.000000   \n",
      "\n",
      "       contributor_payee_committee_id      filer_id  intrst_rate  \\\n",
      "count                      129.000000   2700.000000            9   \n",
      "mean                      7872.085271   9612.684444            0   \n",
      "std                       6991.062308   6897.686139            0   \n",
      "min                          3.000000     10.000000            0   \n",
      "25%                        470.000000   2189.000000            0   \n",
      "50%                       4831.000000  11487.000000            0   \n",
      "75%                      15323.000000  17007.000000            0   \n",
      "max                      17370.000000  17454.000000            0   \n",
      "\n",
      "          check_nbr  addr_book_agent_name           zip  zip_plus_four  \\\n",
      "count  4.210000e+02                     0   2087.000000     144.000000   \n",
      "mean   7.221467e+06                   NaN  89631.470532    6013.465278   \n",
      "std    1.462182e+08                   NaN  21828.475998    3018.173828   \n",
      "min    0.000000e+00                   NaN   2117.000000       1.000000   \n",
      "25%    1.014000e+03                   NaN  97034.000000    3436.750000   \n",
      "50%    1.177000e+03                   NaN  97218.000000    6707.000000   \n",
      "75%    2.060000e+03                   NaN  97404.000000    8652.000000   \n",
      "max    3.000184e+09                   NaN  99362.000000    9998.000000   \n",
      "\n",
      "       exp_date  \n",
      "count         0  \n",
      "mean        NaN  \n",
      "std         NaN  \n",
      "min         NaN  \n",
      "25%         NaN  \n",
      "50%         NaN  \n",
      "75%         NaN  \n",
      "max         NaN  \n"
     ]
    }
   ],
   "source": [
    "filtered_trans = []\n",
    "for id in trans.original_id.unique():\n",
    "    rows = sorted(trans[trans.original_id == id].iterrows(), key=lambda x:x[1].attest_date, reverse=True)\n",
    "    filtered_trans += [rows[0][1]]\n",
    "filtered_trans = pd.DataFrame(filtered_trans)\n",
    "print(len(trans) / float(len(filtered_trans)))\n",
    "print(filtered_trans.describe())"
   ]
  },
  {
   "cell_type": "code",
   "execution_count": 30,
   "metadata": {
    "collapsed": false
   },
   "outputs": [
    {
     "name": "stdout",
     "output_type": "stream",
     "text": [
      "Index([u'committee_name', u'committee_type', u'committee_subtype',\n",
      "       u'candidate_office', u'candidate_office_group', u'filing_date',\n",
      "       u'organization_filing Date', u'treasurer_first_name',\n",
      "       u'treasurer_last_name', u'treasurer_mailing_address',\n",
      "       u'treasurer_work_phone', u'treasurer_fax', u'candidate_first_name',\n",
      "       u'candidate_last_name', u'candidate_maling_address',\n",
      "       u'candidate_work_phone', u'candidate_residence_phone', u'candidate_fax',\n",
      "       u'candidate_email', u'active_election', u'measure'],\n",
      "      dtype='object')\n",
      "Index([u'original_id', u'tran_date', u'tran_status', u'filer',\n",
      "       u'contributor_payee', u'sub_type', u'amount', u'aggregate_amount',\n",
      "       u'contributor_payee_committee_id', u'filer_id', u'attest_by_name',\n",
      "       u'attest_date', u'review_by_name', u'review_date', u'due_date',\n",
      "       u'occptn_ltr_date', u'pymt_sched_txt', u'purp_desc', u'intrst_rate',\n",
      "       u'check_nbr', u'tran_stsfd_ind', u'filed_by_name', u'filed_date',\n",
      "       u'addr_book_agent_name', u'book_type', u'title_txt', u'occptn_txt',\n",
      "       u'emp_name', u'emp_city', u'emp_state', u'employ_ind',\n",
      "       u'self_employ_ind', u'addr_line1', u'addr_line2', u'city', u'state',\n",
      "       u'zip', u'zip_plus_four', u'county', u'purpose_codes', u'exp_date'],\n",
      "      dtype='object')\n"
     ]
    },
    {
     "ename": "AttributeError",
     "evalue": "'DataFrame' object has no attribute 'committee_id'",
     "output_type": "error",
     "traceback": [
      "\u001b[1;31m---------------------------------------------------------------------------\u001b[0m",
      "\u001b[1;31mAttributeError\u001b[0m                            Traceback (most recent call last)",
      "\u001b[1;32m<ipython-input-30-91a53b68de87>\u001b[0m in \u001b[0;36m<module>\u001b[1;34m()\u001b[0m\n\u001b[0;32m      3\u001b[0m \u001b[1;32mprint\u001b[0m\u001b[1;33m(\u001b[0m\u001b[0mpacs\u001b[0m\u001b[1;33m.\u001b[0m\u001b[0mcolumns\u001b[0m\u001b[1;33m)\u001b[0m\u001b[1;33m\u001b[0m\u001b[0m\n\u001b[0;32m      4\u001b[0m \u001b[1;32mprint\u001b[0m\u001b[1;33m(\u001b[0m\u001b[0mdf\u001b[0m\u001b[1;33m.\u001b[0m\u001b[0mcolumns\u001b[0m\u001b[1;33m)\u001b[0m\u001b[1;33m\u001b[0m\u001b[0m\n\u001b[1;32m----> 5\u001b[1;33m \u001b[1;32mprint\u001b[0m\u001b[1;33m(\u001b[0m\u001b[1;33m[\u001b[0m\u001b[1;33m(\u001b[0m\u001b[0mpacs\u001b[0m\u001b[1;33m[\u001b[0m\u001b[0mpacs\u001b[0m\u001b[1;33m.\u001b[0m\u001b[0mcommittee_id\u001b[0m \u001b[1;33m==\u001b[0m \u001b[0mid\u001b[0m\u001b[1;33m]\u001b[0m\u001b[1;33m.\u001b[0m\u001b[0mcommittee_name\u001b[0m\u001b[1;33m,\u001b[0m \u001b[0mamount\u001b[0m\u001b[1;33m)\u001b[0m \u001b[1;32mfor\u001b[0m \u001b[1;33m(\u001b[0m\u001b[0mid\u001b[0m\u001b[1;33m,\u001b[0m \u001b[0mamount\u001b[0m\u001b[1;33m)\u001b[0m \u001b[1;32min\u001b[0m \u001b[0msorted\u001b[0m\u001b[1;33m(\u001b[0m\u001b[0mfiler_sums\u001b[0m\u001b[1;33m.\u001b[0m\u001b[0miteritems\u001b[0m\u001b[1;33m(\u001b[0m\u001b[1;33m)\u001b[0m\u001b[1;33m,\u001b[0m \u001b[0mkey\u001b[0m\u001b[1;33m=\u001b[0m\u001b[1;32mlambda\u001b[0m \u001b[0mx\u001b[0m\u001b[1;33m:\u001b[0m\u001b[0mx\u001b[0m\u001b[1;33m[\u001b[0m\u001b[1;36m1\u001b[0m\u001b[1;33m]\u001b[0m\u001b[1;33m,\u001b[0m \u001b[0mreverse\u001b[0m\u001b[1;33m=\u001b[0m\u001b[0mTrue\u001b[0m\u001b[1;33m)\u001b[0m\u001b[1;33m]\u001b[0m\u001b[1;33m)\u001b[0m\u001b[1;33m\u001b[0m\u001b[0m\n\u001b[0m",
      "\u001b[1;32m/home/hobs/.virtualenvs/hackor/local/lib/python2.7/site-packages/pandas/core/generic.pyc\u001b[0m in \u001b[0;36m__getattr__\u001b[1;34m(self, name)\u001b[0m\n\u001b[0;32m   2148\u001b[0m                 \u001b[1;32mreturn\u001b[0m \u001b[0mself\u001b[0m\u001b[1;33m[\u001b[0m\u001b[0mname\u001b[0m\u001b[1;33m]\u001b[0m\u001b[1;33m\u001b[0m\u001b[0m\n\u001b[0;32m   2149\u001b[0m             raise AttributeError(\"'%s' object has no attribute '%s'\" %\n\u001b[1;32m-> 2150\u001b[1;33m                                  (type(self).__name__, name))\n\u001b[0m\u001b[0;32m   2151\u001b[0m \u001b[1;33m\u001b[0m\u001b[0m\n\u001b[0;32m   2152\u001b[0m     \u001b[1;32mdef\u001b[0m \u001b[0m__setattr__\u001b[0m\u001b[1;33m(\u001b[0m\u001b[0mself\u001b[0m\u001b[1;33m,\u001b[0m \u001b[0mname\u001b[0m\u001b[1;33m,\u001b[0m \u001b[0mvalue\u001b[0m\u001b[1;33m)\u001b[0m\u001b[1;33m:\u001b[0m\u001b[1;33m\u001b[0m\u001b[0m\n",
      "\u001b[1;31mAttributeError\u001b[0m: 'DataFrame' object has no attribute 'committee_id'"
     ]
    }
   ],
   "source": [
    "df = filtered_trans\n",
    "filer_sums = df.groupby('filer_id').amount.sum()\n",
    "print(pacs.columns)\n",
    "print(df.columns)\n",
    "print([(pacs[pacs.committee_id == id].committee_name, amount) for (id, amount) in sorted(filer_sums.iteritems(), key=lambda x:x[1], reverse=True)])\n"
   ]
  }
 ],
 "metadata": {
  "kernelspec": {
   "display_name": "Python 2",
   "language": "python",
   "name": "python2"
  },
  "language_info": {
   "codemirror_mode": {
    "name": "ipython",
    "version": 2
   },
   "file_extension": ".py",
   "mimetype": "text/x-python",
   "name": "python",
   "nbconvert_exporter": "python",
   "pygments_lexer": "ipython2",
   "version": "2.7.9"
  }
 },
 "nbformat": 4,
 "nbformat_minor": 0
}
