{
 "cells": [
  {
   "cell_type": "code",
   "execution_count": 3,
   "metadata": {
    "collapsed": false
   },
   "outputs": [
    {
     "ename": "ValueError",
     "evalue": "Attempted relative import in non-package",
     "output_type": "error",
     "traceback": [
      "\u001b[1;31m---------------------------------------------------------------------------\u001b[0m",
      "\u001b[1;31mValueError\u001b[0m                                Traceback (most recent call last)",
      "\u001b[1;32m<ipython-input-3-690071d622d4>\u001b[0m in \u001b[0;36m<module>\u001b[1;34m()\u001b[0m\n\u001b[0;32m     11\u001b[0m \u001b[1;32mfrom\u001b[0m \u001b[0msklearn\u001b[0m\u001b[1;33m.\u001b[0m\u001b[0mfeature_extraction\u001b[0m\u001b[1;33m.\u001b[0m\u001b[0mtext\u001b[0m \u001b[1;32mimport\u001b[0m \u001b[0mTfidfVectorizer\u001b[0m  \u001b[1;31m# equivalent to TFIDFTransformer(CountVectorizer())\u001b[0m\u001b[1;33m\u001b[0m\u001b[0m\n\u001b[0;32m     12\u001b[0m \u001b[1;32mfrom\u001b[0m \u001b[0mdjango\u001b[0m\u001b[1;33m.\u001b[0m\u001b[0mdb\u001b[0m\u001b[1;33m.\u001b[0m\u001b[0mmodels\u001b[0m \u001b[1;32mimport\u001b[0m \u001b[0mSum\u001b[0m\u001b[1;33m\u001b[0m\u001b[0m\n\u001b[1;32m---> 13\u001b[1;33m \u001b[1;32mfrom\u001b[0m \u001b[1;33m.\u001b[0m\u001b[1;33m.\u001b[0m\u001b[0mpacs\u001b[0m\u001b[1;33m.\u001b[0m\u001b[0mmodels\u001b[0m \u001b[1;32mimport\u001b[0m \u001b[0mCampaignDetail\u001b[0m\u001b[1;33m\u001b[0m\u001b[0m\n\u001b[0m",
      "\u001b[1;31mValueError\u001b[0m: Attempted relative import in non-package"
     ]
    }
   ],
   "source": [
    "import re\n",
    "import pandas as pd\n",
    "np = pd.np\n",
    "np.norm = np.linalg.norm\n",
    "from datetime import datetime, date\n",
    "import json\n",
    "from matplotlib import pyplot as plt\n",
    "%matplotlib inline\n",
    "plt.style.use('ggplot')\n",
    "\n",
    "from sklearn.feature_extraction.text import TfidfVectorizer  # equivalent to TFIDFTransformer(CountVectorizer())\n",
    "from django.db.models import Sum\n",
    "\n",
    "# from pacs.models import CampaignDetail\n"
   ]
  },
  {
   "cell_type": "markdown",
   "metadata": {},
   "source": [
    "# Django\n",
    "This is how you join CampaignDetail & WorkingTransactions  \n",
    "and aggregate the WorkingTransactions.amount"
   ]
  },
  {
   "cell_type": "code",
   "execution_count": 4,
   "metadata": {
    "collapsed": false
   },
   "outputs": [
    {
     "ename": "NameError",
     "evalue": "name 'CampaignDetail' is not defined",
     "output_type": "error",
     "traceback": [
      "\u001b[1;31m---------------------------------------------------------------------------\u001b[0m",
      "\u001b[1;31mNameError\u001b[0m                                 Traceback (most recent call last)",
      "\u001b[1;32m<ipython-input-4-ca3e2b5c3dc6>\u001b[0m in \u001b[0;36m<module>\u001b[1;34m()\u001b[0m\n\u001b[1;32m----> 1\u001b[1;33m \u001b[0mqs\u001b[0m \u001b[1;33m=\u001b[0m \u001b[0mCampaignDetail\u001b[0m\u001b[1;33m.\u001b[0m\u001b[0mobjects\u001b[0m\u001b[1;33m.\u001b[0m\u001b[0mannotate\u001b[0m\u001b[1;33m(\u001b[0m\u001b[0mnet_amount\u001b[0m\u001b[1;33m=\u001b[0m\u001b[0mSum\u001b[0m\u001b[1;33m(\u001b[0m\u001b[1;34m'workingtransactions__amount'\u001b[0m\u001b[1;33m)\u001b[0m\u001b[1;33m)\u001b[0m\u001b[1;33m.\u001b[0m\u001b[0mvalues\u001b[0m\u001b[1;33m(\u001b[0m\u001b[1;33m)\u001b[0m\u001b[1;33m.\u001b[0m\u001b[0mall\u001b[0m\u001b[1;33m(\u001b[0m\u001b[1;33m)\u001b[0m\u001b[1;33m\u001b[0m\u001b[0m\n\u001b[0m\u001b[0;32m      2\u001b[0m \u001b[1;33m\u001b[0m\u001b[0m\n",
      "\u001b[1;31mNameError\u001b[0m: name 'CampaignDetail' is not defined"
     ]
    }
   ],
   "source": [
    "qs = CampaignDetail.objects.annotate(net_amount=Sum('workingtransactions__amount')).values().all()\n",
    "\n"
   ]
  },
  {
   "cell_type": "markdown",
   "metadata": {},
   "source": [
    "Convert a Django Queryset into a Pandas DataFrame"
   ]
  },
  {
   "cell_type": "code",
   "execution_count": null,
   "metadata": {
    "collapsed": true
   },
   "outputs": [],
   "source": [
    "df = pd.DataFrame.from_records(qs)\n",
    "\n",
    "# What if you only want the positive transactions summed\n",
    "qs_pos = CampaignDetail.objects.filter(workingtransactions__amount__gt=0)\n",
    "qs_pos = qs_pos.annotate(pos_amount=Sum('workingtransactions__amount'))\n",
    "\n",
    "# this is how you do a join on a pandas dataframe\n",
    "df_pos = df.join(pd.DataFrame.from_records(qs_pos.values('pos_amount').all())['pos_amount'])\n",
    "\n",
    "# but what if I just inserted a new column into the dataframe with the values I want\n",
    "df['pos_amount'] = pd.DataFrame.from_records(qs_pos.values('pos_amount').all())['pos_amount']\n",
    "\n",
    "# Did all the rows get inserted in the right place (are the indices still alligned)\n",
    "print((df == df2))\n",
    "print((df == df2.mean())\n",
    "# it turns out that a NaN is not equal to a NaN\n",
    "# any operation involving a NaN returns a NaN\n",
    "# and NaN (like None) always evaluates to False\n",
    "print((df == df2.mean()) + df.isnull().mean())\n",
    "\n",
    "# get rid of rows without a committee name (from transactions with filer_id not in CampaignDetail)\n",
    "df = df[df.committee_name.astype(bool)].copy()\n",
    "df = df.set_index(df.committee_name)\n",
    "\n",
    "# lets do it all again for negative transaction amounts\n",
    "qs_neg = CampaignDetail.objects.filter(workingtransactions__amount__lt=0)\n",
    "qs_neg = qs_neg.annotate(neg_amount=Sum('workingtransactions__amount'))\n",
    "df = df.join(pd.DataFrame.from_records(qs_pos.values('neg_amount').all())['neg_amount'])\n",
    "\n",
    "\n",
    "# Can we create a directed graph of financial transactions between committees?\n",
    "# are the payee_committee_ids the same as \"filer_id\"?\n",
    "filer_id = set(pd.DataFrame.from_records(WorkingTransactions.objects.values(\n",
    "               'filer_id').all()).dropna().values.T[0])\n",
    "payee_id = set(pd.DataFrame.from_records(WorkingTransactions.objects.values(\n",
    "               'contributor_payee_committee_id').all()).dropna().values.T[0])\n",
    "print(len(payee_id.intersection(filer_id)) * 1. / len(filer_id))\n",
    "\n",
    "# That's good enough for government work\n",
    "\n"
   ]
  }
 ],
 "metadata": {
  "kernelspec": {
   "display_name": "Python 2",
   "language": "python",
   "name": "python2"
  },
  "language_info": {
   "codemirror_mode": {
    "name": "ipython",
    "version": 2
   },
   "file_extension": ".py",
   "mimetype": "text/x-python",
   "name": "python",
   "nbconvert_exporter": "python",
   "pygments_lexer": "ipython2",
   "version": "2.7.9"
  }
 },
 "nbformat": 4,
 "nbformat_minor": 0
}
